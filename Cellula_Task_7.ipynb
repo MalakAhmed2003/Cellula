{
  "cells": [
    {
      "cell_type": "markdown",
      "metadata": {
        "id": "view-in-github",
        "colab_type": "text"
      },
      "source": [
        "<a href=\"https://colab.research.google.com/github/MalakAhmed2003/Cellula/blob/main/Cellula_Task_7.ipynb\" target=\"_parent\"><img src=\"https://colab.research.google.com/assets/colab-badge.svg\" alt=\"Open In Colab\"/></a>"
      ]
    },
    {
      "cell_type": "code",
      "execution_count": null,
      "metadata": {
        "colab": {
          "background_save": true
        },
        "id": "Br7ZuO2YH1p0",
        "outputId": "537e88e0-48f6-400b-989b-9f3db66f5182"
      },
      "outputs": [
        {
          "name": "stdout",
          "output_type": "stream",
          "text": [
            "Drive already mounted at /content/drive; to attempt to forcibly remount, call drive.mount(\"/content/drive\", force_remount=True).\n"
          ]
        }
      ],
      "source": [
        "# 1. Mount Google Drive\n",
        "from google.colab import drive\n",
        "drive.mount('/content/drive')"
      ]
    },
    {
      "cell_type": "code",
      "execution_count": null,
      "metadata": {
        "colab": {
          "background_save": true
        },
        "id": "kl7vky46OFZQ"
      },
      "outputs": [],
      "source": [
        "import zipfile\n",
        "\n",
        "zip_path = \"/content/drive/MyDrive/Shop DataSet.zip\"\n",
        "extract_path = \"/content/video_data\"\n",
        "\n",
        "with zipfile.ZipFile(zip_path, 'r') as zip_ref:\n",
        "    zip_ref.extractall(extract_path)\n"
      ]
    },
    {
      "cell_type": "code",
      "execution_count": null,
      "metadata": {
        "colab": {
          "background_save": true
        },
        "id": "_lPnywmlOe97",
        "outputId": "0764c819-a76c-497b-da37-b2922ed3076c"
      },
      "outputs": [
        {
          "name": "stdout",
          "output_type": "stream",
          "text": [
            "Found video files: ['/content/video_data/Shop DataSet/non shop lifters/shop_lifter_n_73.mp4', '/content/video_data/Shop DataSet/non shop lifters/shop_lifter_n_214_1.mp4', '/content/video_data/Shop DataSet/non shop lifters/shop_lifter_n_83.mp4', '/content/video_data/Shop DataSet/non shop lifters/shop_lifter_n_199_1.mp4', '/content/video_data/Shop DataSet/non shop lifters/shop_lifter_n_179_1.mp4', '/content/video_data/Shop DataSet/non shop lifters/shop_lifter_n_182.mp4', '/content/video_data/Shop DataSet/non shop lifters/shop_lifter_n_95_1.mp4', '/content/video_data/Shop DataSet/non shop lifters/shop_lifter_n_175.mp4', '/content/video_data/Shop DataSet/non shop lifters/shop_lifter_n_71.mp4', '/content/video_data/Shop DataSet/non shop lifters/shop_lifter_n_127_1.mp4', '/content/video_data/Shop DataSet/non shop lifters/shop_lifter_n_3_1.mp4', '/content/video_data/Shop DataSet/non shop lifters/shop_lifter_n_197.mp4', '/content/video_data/Shop DataSet/non shop lifters/shop_lifter_n_50.mp4', '/content/video_data/Shop DataSet/non shop lifters/videppppsss_65.mp4', '/content/video_data/Shop DataSet/non shop lifters/shop_lifter_n_42_1.mp4', '/content/video_data/Shop DataSet/non shop lifters/shop_lifter_n_198.mp4', '/content/video_data/Shop DataSet/non shop lifters/shop_lifter_n_68_1.mp4', '/content/video_data/Shop DataSet/non shop lifters/videossssstttsss_55.mp4', '/content/video_data/Shop DataSet/non shop lifters/shop_lifter_n_16.mp4', '/content/video_data/Shop DataSet/non shop lifters/videppppsss_8.mp4', '/content/video_data/Shop DataSet/non shop lifters/shop_lifter_n_146_1.mp4', '/content/video_data/Shop DataSet/non shop lifters/shop_lifter_n_64.mp4', '/content/video_data/Shop DataSet/non shop lifters/shop_lifter_n_94_1.mp4', '/content/video_data/Shop DataSet/non shop lifters/shop_lifter_n_135.mp4', '/content/video_data/Shop DataSet/non shop lifters/shop_lifter_n_208_1.mp4', '/content/video_data/Shop DataSet/non shop lifters/shop_lifter_n_113_1.mp4', '/content/video_data/Shop DataSet/non shop lifters/shop_lifter_n_57.mp4', '/content/video_data/Shop DataSet/non shop lifters/shop_lifter_n_72_1.mp4', '/content/video_data/Shop DataSet/non shop lifters/shop_lifter_n_67_1.mp4', '/content/video_data/Shop DataSet/non shop lifters/shop_lifter_n_153_1.mp4', '/content/video_data/Shop DataSet/non shop lifters/shop_lifter_n_101.mp4', '/content/video_data/Shop DataSet/non shop lifters/shop_lifter_n_11_1.mp4', '/content/video_data/Shop DataSet/non shop lifters/shop_lifter_n_189_1.mp4', '/content/video_data/Shop DataSet/non shop lifters/shop_lifter_n_18.mp4', '/content/video_data/Shop DataSet/non shop lifters/shop_lifter_n_33.mp4', '/content/video_data/Shop DataSet/non shop lifters/shop_lifter_n_69.mp4', '/content/video_data/Shop DataSet/non shop lifters/shop_lifter_n_1_1.mp4', '/content/video_data/Shop DataSet/non shop lifters/shop_lifter_n_192_1.mp4', '/content/video_data/Shop DataSet/non shop lifters/shop_lifter_n_14_1.mp4', '/content/video_data/Shop DataSet/non shop lifters/shop_lifter_n_192.mp4', '/content/video_data/Shop DataSet/non shop lifters/videppppsss_43.mp4', '/content/video_data/Shop DataSet/non shop lifters/shop_lifter_n_145_1.mp4', '/content/video_data/Shop DataSet/non shop lifters/shop_lifter_n_110.mp4', '/content/video_data/Shop DataSet/non shop lifters/shop_lifter_n_207.mp4', '/content/video_data/Shop DataSet/non shop lifters/shop_lifter_n_193.mp4', '/content/video_data/Shop DataSet/non shop lifters/shop_lifter_n_176_1.mp4', '/content/video_data/Shop DataSet/non shop lifters/shop_lifter_n_180_1.mp4', '/content/video_data/Shop DataSet/non shop lifters/shop_lifter_n_111_1.mp4', '/content/video_data/Shop DataSet/non shop lifters/shop_lifter_n_150.mp4', '/content/video_data/Shop DataSet/non shop lifters/videossssstttsss_52.mp4', '/content/video_data/Shop DataSet/non shop lifters/videppppsss_17.mp4', '/content/video_data/Shop DataSet/non shop lifters/shop_lifter_n_184.mp4', '/content/video_data/Shop DataSet/non shop lifters/shop_lifter_n_9_1.mp4', '/content/video_data/Shop DataSet/non shop lifters/shop_lifter_n_124_1.mp4', '/content/video_data/Shop DataSet/non shop lifters/shop_lifter_n_29_1.mp4', '/content/video_data/Shop DataSet/non shop lifters/shop_lifter_n_26.mp4', '/content/video_data/Shop DataSet/non shop lifters/shop_lifter_n_176.mp4', '/content/video_data/Shop DataSet/non shop lifters/shop_lifter_n_83_1.mp4', '/content/video_data/Shop DataSet/non shop lifters/shop_lifter_n_157_1.mp4', '/content/video_data/Shop DataSet/non shop lifters/shop_lifter_n_130.mp4', '/content/video_data/Shop DataSet/non shop lifters/shop_lifter_n_121_1.mp4', '/content/video_data/Shop DataSet/non shop lifters/shop_lifter_n_100_1.mp4', '/content/video_data/Shop DataSet/non shop lifters/videppppsss_70.mp4', '/content/video_data/Shop DataSet/non shop lifters/shop_lifter_n_194_1.mp4', '/content/video_data/Shop DataSet/non shop lifters/shop_lifter_n_98_1.mp4', '/content/video_data/Shop DataSet/non shop lifters/shop_lifter_n_103.mp4', '/content/video_data/Shop DataSet/non shop lifters/shop_lifter_n_203.mp4', '/content/video_data/Shop DataSet/non shop lifters/shop_lifter_n_30_1.mp4', '/content/video_data/Shop DataSet/non shop lifters/shop_lifter_n_127.mp4', '/content/video_data/Shop DataSet/non shop lifters/shop_lifter_n_89.mp4', '/content/video_data/Shop DataSet/non shop lifters/shop_lifter_n_28.mp4', '/content/video_data/Shop DataSet/non shop lifters/shop_lifter_n_121.mp4', '/content/video_data/Shop DataSet/non shop lifters/shop_lifter_n_200.mp4', '/content/video_data/Shop DataSet/non shop lifters/shop_lifter_n_163.mp4', '/content/video_data/Shop DataSet/non shop lifters/shop_lifter_n_17_1.mp4', '/content/video_data/Shop DataSet/non shop lifters/shop_lifter_n_91_1.mp4', '/content/video_data/Shop DataSet/non shop lifters/shop_lifter_n_69_1.mp4', '/content/video_data/Shop DataSet/non shop lifters/videppppsss_36.mp4', '/content/video_data/Shop DataSet/non shop lifters/shop_lifter_n_154.mp4', '/content/video_data/Shop DataSet/non shop lifters/shop_lifter_n_145.mp4', '/content/video_data/Shop DataSet/non shop lifters/shop_lifter_n_48.mp4', '/content/video_data/Shop DataSet/non shop lifters/shop_lifter_n_5_1.mp4', '/content/video_data/Shop DataSet/non shop lifters/shop_lifter_n_135_1.mp4', '/content/video_data/Shop DataSet/non shop lifters/shop_lifter_n_11.mp4', '/content/video_data/Shop DataSet/non shop lifters/shop_lifter_n_64_1.mp4', '/content/video_data/Shop DataSet/non shop lifters/shop_lifter_n_25.mp4', '/content/video_data/Shop DataSet/non shop lifters/shop_lifter_n_206.mp4', '/content/video_data/Shop DataSet/non shop lifters/shop_lifter_n_136_1.mp4', '/content/video_data/Shop DataSet/non shop lifters/shop_lifter_n_30.mp4', '/content/video_data/Shop DataSet/non shop lifters/shop_lifter_n_213.mp4', '/content/video_data/Shop DataSet/non shop lifters/shop_lifter_n_22_1.mp4', '/content/video_data/Shop DataSet/non shop lifters/shop_lifter_n_161.mp4', '/content/video_data/Shop DataSet/non shop lifters/shop_lifter_n_174.mp4', '/content/video_data/Shop DataSet/non shop lifters/shop_lifter_n_147.mp4', '/content/video_data/Shop DataSet/non shop lifters/shop_lifter_n_218.mp4', '/content/video_data/Shop DataSet/non shop lifters/shop_lifter_n_61.mp4', '/content/video_data/Shop DataSet/non shop lifters/shop_lifter_n_123.mp4', '/content/video_data/Shop DataSet/non shop lifters/shop_lifter_n_164.mp4', '/content/video_data/Shop DataSet/non shop lifters/shop_lifter_n_217.mp4', '/content/video_data/Shop DataSet/non shop lifters/shop_lifter_n_185.mp4', '/content/video_data/Shop DataSet/non shop lifters/shop_lifter_n_71_1.mp4', '/content/video_data/Shop DataSet/non shop lifters/shop_lifter_n_105.mp4', '/content/video_data/Shop DataSet/non shop lifters/shop_lifter_n_82_1.mp4', '/content/video_data/Shop DataSet/non shop lifters/shop_lifter_n_205_1.mp4', '/content/video_data/Shop DataSet/non shop lifters/shop_lifter_n_201.mp4', '/content/video_data/Shop DataSet/non shop lifters/shop_lifter_n_73_1.mp4', '/content/video_data/Shop DataSet/non shop lifters/shop_lifter_n_92.mp4', '/content/video_data/Shop DataSet/non shop lifters/shop_lifter_n_31_1.mp4', '/content/video_data/Shop DataSet/non shop lifters/videppppsss_23.mp4', '/content/video_data/Shop DataSet/non shop lifters/shop_lifter_n_181_1.mp4', '/content/video_data/Shop DataSet/non shop lifters/videppppsss_27.mp4', '/content/video_data/Shop DataSet/non shop lifters/shop_lifter_n_209_1.mp4', '/content/video_data/Shop DataSet/non shop lifters/shop_lifter_n_102_1.mp4', '/content/video_data/Shop DataSet/non shop lifters/shop_lifter_n_117_1.mp4', '/content/video_data/Shop DataSet/non shop lifters/shop_lifter_n_96_1.mp4', '/content/video_data/Shop DataSet/non shop lifters/shop_lifter_n_29.mp4', '/content/video_data/Shop DataSet/non shop lifters/shop_lifter_n_8_1.mp4', '/content/video_data/Shop DataSet/non shop lifters/videppppsss_64.mp4', '/content/video_data/Shop DataSet/non shop lifters/shop_lifter_n_206_1.mp4', '/content/video_data/Shop DataSet/non shop lifters/videppppsss_74.mp4', '/content/video_data/Shop DataSet/non shop lifters/videppppsss_16.mp4', '/content/video_data/Shop DataSet/non shop lifters/shop_lifter_n_84.mp4', '/content/video_data/Shop DataSet/non shop lifters/videossssstttsss_53.mp4', '/content/video_data/Shop DataSet/non shop lifters/videppppsss_73.mp4', '/content/video_data/Shop DataSet/non shop lifters/shop_lifter_n_50_1.mp4', '/content/video_data/Shop DataSet/non shop lifters/shop_lifter_n_21.mp4', '/content/video_data/Shop DataSet/non shop lifters/shop_lifter_n_186.mp4', '/content/video_data/Shop DataSet/non shop lifters/shop_lifter_n_92_1.mp4', '/content/video_data/Shop DataSet/non shop lifters/videppppsss_54.mp4', '/content/video_data/Shop DataSet/non shop lifters/shop_lifter_n_77_1.mp4', '/content/video_data/Shop DataSet/non shop lifters/shop_lifter_n_208.mp4', '/content/video_data/Shop DataSet/non shop lifters/shop_lifter_n_96.mp4', '/content/video_data/Shop DataSet/non shop lifters/shop_lifter_n_134.mp4', '/content/video_data/Shop DataSet/non shop lifters/shop_lifter_n_215_1.mp4', '/content/video_data/Shop DataSet/non shop lifters/videppppsss_81.mp4', '/content/video_data/Shop DataSet/non shop lifters/videppppsss_35.mp4', '/content/video_data/Shop DataSet/non shop lifters/shop_lifter_n_163_1.mp4', '/content/video_data/Shop DataSet/non shop lifters/shop_lifter_n_159_1.mp4', '/content/video_data/Shop DataSet/non shop lifters/shop_lifter_n_196_1.mp4', '/content/video_data/Shop DataSet/non shop lifters/videppppsss_25.mp4', '/content/video_data/Shop DataSet/non shop lifters/shop_lifter_n_126.mp4', '/content/video_data/Shop DataSet/non shop lifters/shop_lifter_n_37_1.mp4', '/content/video_data/Shop DataSet/non shop lifters/shop_lifter_n_187_1.mp4', '/content/video_data/Shop DataSet/non shop lifters/shop_lifter_n_97_1.mp4', '/content/video_data/Shop DataSet/non shop lifters/shop_lifter_n_141.mp4', '/content/video_data/Shop DataSet/non shop lifters/shop_lifter_n_65_1.mp4', '/content/video_data/Shop DataSet/non shop lifters/shop_lifter_n_59_1.mp4', '/content/video_data/Shop DataSet/non shop lifters/shop_lifter_n_81.mp4', '/content/video_data/Shop DataSet/non shop lifters/videppppsss_79.mp4', '/content/video_data/Shop DataSet/non shop lifters/shop_lifter_n_188_1.mp4', '/content/video_data/Shop DataSet/non shop lifters/shop_lifter_n_94.mp4', '/content/video_data/Shop DataSet/non shop lifters/shop_lifter_n_21_1.mp4', '/content/video_data/Shop DataSet/non shop lifters/shop_lifter_n_199.mp4', '/content/video_data/Shop DataSet/non shop lifters/videppppsss_15.mp4', '/content/video_data/Shop DataSet/non shop lifters/shop_lifter_n_85.mp4', '/content/video_data/Shop DataSet/non shop lifters/shop_lifter_n_164_1.mp4', '/content/video_data/Shop DataSet/non shop lifters/shop_lifter_n_183.mp4', '/content/video_data/Shop DataSet/non shop lifters/shop_lifter_n_118.mp4', '/content/video_data/Shop DataSet/non shop lifters/shop_lifter_n_19.mp4', '/content/video_data/Shop DataSet/non shop lifters/videppppsss_72.mp4', '/content/video_data/Shop DataSet/non shop lifters/videppppsss_46.mp4', '/content/video_data/Shop DataSet/non shop lifters/videppppsss_1.mp4', '/content/video_data/Shop DataSet/non shop lifters/shop_lifter_n_54_1.mp4', '/content/video_data/Shop DataSet/non shop lifters/shop_lifter_n_195.mp4', '/content/video_data/Shop DataSet/non shop lifters/shop_lifter_n_204.mp4', '/content/video_data/Shop DataSet/non shop lifters/shop_lifter_n_158.mp4', '/content/video_data/Shop DataSet/non shop lifters/shop_lifter_n_78.mp4', '/content/video_data/Shop DataSet/non shop lifters/shop_lifter_n_62_1.mp4', '/content/video_data/Shop DataSet/non shop lifters/shop_lifter_n_188.mp4', '/content/video_data/Shop DataSet/non shop lifters/videppppsss_48.mp4', '/content/video_data/Shop DataSet/non shop lifters/videppppsss_85.mp4', '/content/video_data/Shop DataSet/non shop lifters/shop_lifter_n_205.mp4', '/content/video_data/Shop DataSet/non shop lifters/shop_lifter_n_24_1.mp4', '/content/video_data/Shop DataSet/non shop lifters/shop_lifter_n_152.mp4', '/content/video_data/Shop DataSet/non shop lifters/videppppsss_63.mp4', '/content/video_data/Shop DataSet/non shop lifters/videppppsss_29.mp4', '/content/video_data/Shop DataSet/non shop lifters/shop_lifter_n_36.mp4', '/content/video_data/Shop DataSet/non shop lifters/shop_lifter_n_54.mp4', '/content/video_data/Shop DataSet/non shop lifters/shop_lifter_n_3.mp4', '/content/video_data/Shop DataSet/non shop lifters/shop_lifter_n_162.mp4', '/content/video_data/Shop DataSet/non shop lifters/shop_lifter_n_104.mp4', '/content/video_data/Shop DataSet/non shop lifters/videppppsss_34.mp4', '/content/video_data/Shop DataSet/non shop lifters/shop_lifter_n_5.mp4', '/content/video_data/Shop DataSet/non shop lifters/shop_lifter_n_66.mp4', '/content/video_data/Shop DataSet/non shop lifters/shop_lifter_n_134_1.mp4', '/content/video_data/Shop DataSet/non shop lifters/shop_lifter_n_211.mp4', '/content/video_data/Shop DataSet/non shop lifters/shop_lifter_n_44.mp4', '/content/video_data/Shop DataSet/non shop lifters/videossssstttsss_50.mp4', '/content/video_data/Shop DataSet/non shop lifters/videppppsss_12.mp4', '/content/video_data/Shop DataSet/non shop lifters/shop_lifter_n_34.mp4', '/content/video_data/Shop DataSet/non shop lifters/shop_lifter_n_212.mp4', '/content/video_data/Shop DataSet/non shop lifters/videppppsss_71.mp4', '/content/video_data/Shop DataSet/non shop lifters/shop_lifter_n_218_1.mp4', '/content/video_data/Shop DataSet/non shop lifters/shop_lifter_n_167_1.mp4', '/content/video_data/Shop DataSet/non shop lifters/shop_lifter_n_131.mp4', '/content/video_data/Shop DataSet/non shop lifters/shop_lifter_n_6.mp4', '/content/video_data/Shop DataSet/non shop lifters/shop_lifter_n_118_1.mp4', '/content/video_data/Shop DataSet/non shop lifters/shop_lifter_n_160_1.mp4', '/content/video_data/Shop DataSet/non shop lifters/shop_lifter_n_70.mp4', '/content/video_data/Shop DataSet/non shop lifters/shop_lifter_n_148.mp4', '/content/video_data/Shop DataSet/non shop lifters/shop_lifter_n_65.mp4', '/content/video_data/Shop DataSet/non shop lifters/shop_lifter_n_210_1.mp4', '/content/video_data/Shop DataSet/non shop lifters/shop_lifter_n_202_1.mp4', '/content/video_data/Shop DataSet/non shop lifters/shop_lifter_n_85_1.mp4', '/content/video_data/Shop DataSet/non shop lifters/shop_lifter_n_143_1.mp4', '/content/video_data/Shop DataSet/non shop lifters/videppppsss_78.mp4', '/content/video_data/Shop DataSet/non shop lifters/shop_lifter_n_155.mp4', '/content/video_data/Shop DataSet/non shop lifters/shop_lifter_n_35.mp4', '/content/video_data/Shop DataSet/non shop lifters/shop_lifter_n_16_1.mp4', '/content/video_data/Shop DataSet/non shop lifters/shop_lifter_n_146.mp4', '/content/video_data/Shop DataSet/non shop lifters/shop_lifter_n_27_1.mp4', '/content/video_data/Shop DataSet/non shop lifters/shop_lifter_n_129.mp4', '/content/video_data/Shop DataSet/non shop lifters/videppppsss_58.mp4', '/content/video_data/Shop DataSet/non shop lifters/shop_lifter_n_172.mp4', '/content/video_data/Shop DataSet/non shop lifters/shop_lifter_n_20.mp4', '/content/video_data/Shop DataSet/non shop lifters/shop_lifter_n_187.mp4', '/content/video_data/Shop DataSet/non shop lifters/shop_lifter_n_75.mp4', '/content/video_data/Shop DataSet/non shop lifters/shop_lifter_n_217_1.mp4', '/content/video_data/Shop DataSet/non shop lifters/shop_lifter_n_149_1.mp4', '/content/video_data/Shop DataSet/non shop lifters/shop_lifter_n_177_1.mp4', '/content/video_data/Shop DataSet/non shop lifters/shop_lifter_n_125.mp4', '/content/video_data/Shop DataSet/non shop lifters/videppppsss_84.mp4', '/content/video_data/Shop DataSet/non shop lifters/shop_lifter_n_202.mp4', '/content/video_data/Shop DataSet/non shop lifters/shop_lifter_n_78_1.mp4', '/content/video_data/Shop DataSet/non shop lifters/shop_lifter_n_113.mp4', '/content/video_data/Shop DataSet/non shop lifters/shop_lifter_n_74_1.mp4', '/content/video_data/Shop DataSet/non shop lifters/shop_lifter_n_86_1.mp4', '/content/video_data/Shop DataSet/non shop lifters/shop_lifter_n_143.mp4', '/content/video_data/Shop DataSet/non shop lifters/videppppsss_32.mp4', '/content/video_data/Shop DataSet/non shop lifters/videppppsss_3.mp4', '/content/video_data/Shop DataSet/non shop lifters/shop_lifter_n_42.mp4', '/content/video_data/Shop DataSet/non shop lifters/shop_lifter_n_137.mp4', '/content/video_data/Shop DataSet/non shop lifters/shop_lifter_n_106.mp4', '/content/video_data/Shop DataSet/non shop lifters/shop_lifter_n_56.mp4', '/content/video_data/Shop DataSet/non shop lifters/shop_lifter_n_172_1.mp4', '/content/video_data/Shop DataSet/non shop lifters/videppppsss_59.mp4', '/content/video_data/Shop DataSet/non shop lifters/shop_lifter_n_105_1.mp4', '/content/video_data/Shop DataSet/non shop lifters/shop_lifter_n_63.mp4', '/content/video_data/Shop DataSet/non shop lifters/videppppsss_68.mp4', '/content/video_data/Shop DataSet/non shop lifters/shop_lifter_n_41.mp4', '/content/video_data/Shop DataSet/non shop lifters/shop_lifter_n_87_1.mp4', '/content/video_data/Shop DataSet/non shop lifters/videppppsss_40.mp4', '/content/video_data/Shop DataSet/non shop lifters/shop_lifter_n_46.mp4', '/content/video_data/Shop DataSet/non shop lifters/shop_lifter_n_151_1.mp4', '/content/video_data/Shop DataSet/non shop lifters/shop_lifter_n_6_1.mp4', '/content/video_data/Shop DataSet/non shop lifters/shop_lifter_n_216_1.mp4', '/content/video_data/Shop DataSet/non shop lifters/shop_lifter_n_61_1.mp4', '/content/video_data/Shop DataSet/non shop lifters/shop_lifter_n_165.mp4', '/content/video_data/Shop DataSet/non shop lifters/videppppsss_33.mp4', '/content/video_data/Shop DataSet/non shop lifters/videppppsss_66.mp4', '/content/video_data/Shop DataSet/non shop lifters/shop_lifter_n_84_1.mp4', '/content/video_data/Shop DataSet/non shop lifters/shop_lifter_n_191.mp4', '/content/video_data/Shop DataSet/non shop lifters/shop_lifter_n_47_1.mp4', '/content/video_data/Shop DataSet/non shop lifters/shop_lifter_n_190.mp4', '/content/video_data/Shop DataSet/non shop lifters/shop_lifter_n_117.mp4', '/content/video_data/Shop DataSet/non shop lifters/shop_lifter_n_133_1.mp4', '/content/video_data/Shop DataSet/non shop lifters/videppppsss_44.mp4', '/content/video_data/Shop DataSet/non shop lifters/shop_lifter_n_209.mp4', '/content/video_data/Shop DataSet/non shop lifters/shop_lifter_n_126_1.mp4', '/content/video_data/Shop DataSet/non shop lifters/shop_lifter_n_109_1.mp4', '/content/video_data/Shop DataSet/non shop lifters/shop_lifter_n_90_1.mp4', '/content/video_data/Shop DataSet/non shop lifters/shop_lifter_n_212_1.mp4', '/content/video_data/Shop DataSet/non shop lifters/shop_lifter_n_80.mp4', '/content/video_data/Shop DataSet/non shop lifters/shop_lifter_n_74.mp4', '/content/video_data/Shop DataSet/non shop lifters/shop_lifter_n_156_1.mp4', '/content/video_data/Shop DataSet/non shop lifters/shop_lifter_n_125_1.mp4', '/content/video_data/Shop DataSet/non shop lifters/shop_lifter_n_178.mp4', '/content/video_data/Shop DataSet/non shop lifters/shop_lifter_n_23.mp4', '/content/video_data/Shop DataSet/non shop lifters/shop_lifter_n_178_1.mp4', '/content/video_data/Shop DataSet/non shop lifters/shop_lifter_n_160.mp4', '/content/video_data/Shop DataSet/non shop lifters/videppppsss_18.mp4', '/content/video_data/Shop DataSet/non shop lifters/shop_lifter_n_52.mp4', '/content/video_data/Shop DataSet/non shop lifters/shop_lifter_n_115.mp4', '/content/video_data/Shop DataSet/non shop lifters/shop_lifter_n_154_1.mp4', '/content/video_data/Shop DataSet/non shop lifters/videppppsss_60.mp4', '/content/video_data/Shop DataSet/non shop lifters/shop_lifter_n_17.mp4', '/content/video_data/Shop DataSet/non shop lifters/videppppsss_21.mp4', '/content/video_data/Shop DataSet/non shop lifters/shop_lifter_n_155_1.mp4', '/content/video_data/Shop DataSet/non shop lifters/shop_lifter_n_77.mp4', '/content/video_data/Shop DataSet/non shop lifters/shop_lifter_n_43.mp4', '/content/video_data/Shop DataSet/non shop lifters/videppppsss_38.mp4', '/content/video_data/Shop DataSet/non shop lifters/shop_lifter_n_173.mp4', '/content/video_data/Shop DataSet/non shop lifters/videppppsss_42.mp4', '/content/video_data/Shop DataSet/non shop lifters/videppppsss_80.mp4', '/content/video_data/Shop DataSet/non shop lifters/shop_lifter_n_58.mp4', '/content/video_data/Shop DataSet/non shop lifters/shop_lifter_n_128_1.mp4', '/content/video_data/Shop DataSet/non shop lifters/shop_lifter_n_40.mp4', '/content/video_data/Shop DataSet/non shop lifters/videppppsss_2.mp4', '/content/video_data/Shop DataSet/non shop lifters/shop_lifter_n_108.mp4', '/content/video_data/Shop DataSet/non shop lifters/shop_lifter_n_114.mp4', '/content/video_data/Shop DataSet/non shop lifters/shop_lifter_n_100.mp4', '/content/video_data/Shop DataSet/non shop lifters/shop_lifter_n_38_1.mp4', '/content/video_data/Shop DataSet/non shop lifters/videppppsss_39.mp4', '/content/video_data/Shop DataSet/non shop lifters/shop_lifter_n_76_1.mp4', '/content/video_data/Shop DataSet/non shop lifters/shop_lifter_n_37.mp4', '/content/video_data/Shop DataSet/non shop lifters/shop_lifter_n_201_1.mp4', '/content/video_data/Shop DataSet/non shop lifters/shop_lifter_n_57_1.mp4', '/content/video_data/Shop DataSet/non shop lifters/shop_lifter_n_88.mp4', '/content/video_data/Shop DataSet/non shop lifters/shop_lifter_n_214.mp4', '/content/video_data/Shop DataSet/non shop lifters/shop_lifter_n_153.mp4', '/content/video_data/Shop DataSet/non shop lifters/shop_lifter_n_51_1.mp4', '/content/video_data/Shop DataSet/non shop lifters/shop_lifter_n_19_1.mp4', '/content/video_data/Shop DataSet/non shop lifters/videossssstttsss_54.mp4', '/content/video_data/Shop DataSet/non shop lifters/shop_lifter_n_12.mp4', '/content/video_data/Shop DataSet/non shop lifters/shop_lifter_n_112.mp4', '/content/video_data/Shop DataSet/non shop lifters/shop_lifter_n_10_1.mp4', '/content/video_data/Shop DataSet/non shop lifters/shop_lifter_n_132_1.mp4', '/content/video_data/Shop DataSet/non shop lifters/videppppsss_7.mp4', '/content/video_data/Shop DataSet/non shop lifters/shop_lifter_n_181.mp4', '/content/video_data/Shop DataSet/non shop lifters/shop_lifter_n_168_1.mp4', '/content/video_data/Shop DataSet/non shop lifters/shop_lifter_n_24.mp4', '/content/video_data/Shop DataSet/non shop lifters/videppppsss_9.mp4', '/content/video_data/Shop DataSet/non shop lifters/shop_lifter_n_137_1.mp4', '/content/video_data/Shop DataSet/non shop lifters/shop_lifter_n_53_1.mp4', '/content/video_data/Shop DataSet/non shop lifters/shop_lifter_n_82.mp4', '/content/video_data/Shop DataSet/non shop lifters/videppppsss_67.mp4', '/content/video_data/Shop DataSet/non shop lifters/videppppsss_28.mp4', '/content/video_data/Shop DataSet/non shop lifters/shop_lifter_n_40_1.mp4', '/content/video_data/Shop DataSet/non shop lifters/shop_lifter_n_81_1.mp4', '/content/video_data/Shop DataSet/non shop lifters/shop_lifter_n_158_1.mp4', '/content/video_data/Shop DataSet/non shop lifters/shop_lifter_n_119_1.mp4', '/content/video_data/Shop DataSet/non shop lifters/shop_lifter_n_66_1.mp4', '/content/video_data/Shop DataSet/non shop lifters/shop_lifter_n_62.mp4', '/content/video_data/Shop DataSet/non shop lifters/shop_lifter_n_60_1.mp4', '/content/video_data/Shop DataSet/non shop lifters/shop_lifter_n_32.mp4', '/content/video_data/Shop DataSet/non shop lifters/videppppsss_61.mp4', '/content/video_data/Shop DataSet/non shop lifters/videppppsss_11.mp4', '/content/video_data/Shop DataSet/non shop lifters/shop_lifter_n_111.mp4', '/content/video_data/Shop DataSet/non shop lifters/videppppsss_6.mp4', '/content/video_data/Shop DataSet/non shop lifters/shop_lifter_n_112_1.mp4', '/content/video_data/Shop DataSet/non shop lifters/shop_lifter_n_15.mp4', '/content/video_data/Shop DataSet/non shop lifters/videppppsss_57.mp4', '/content/video_data/Shop DataSet/non shop lifters/videppppsss_22.mp4', '/content/video_data/Shop DataSet/non shop lifters/shop_lifter_n_13_1.mp4', '/content/video_data/Shop DataSet/non shop lifters/shop_lifter_n_87.mp4', '/content/video_data/Shop DataSet/non shop lifters/shop_lifter_n_114_1.mp4', '/content/video_data/Shop DataSet/non shop lifters/shop_lifter_n_91.mp4', '/content/video_data/Shop DataSet/non shop lifters/videppppsss_20.mp4', '/content/video_data/Shop DataSet/non shop lifters/videppppsss_37.mp4', '/content/video_data/Shop DataSet/non shop lifters/videppppsss_50.mp4', '/content/video_data/Shop DataSet/non shop lifters/shop_lifter_n_167.mp4', '/content/video_data/Shop DataSet/non shop lifters/videppppsss_49.mp4', '/content/video_data/Shop DataSet/non shop lifters/shop_lifter_n_47.mp4', '/content/video_data/Shop DataSet/non shop lifters/shop_lifter_n_14.mp4', '/content/video_data/Shop DataSet/non shop lifters/shop_lifter_n_55_1.mp4', '/content/video_data/Shop DataSet/non shop lifters/shop_lifter_n_138.mp4', '/content/video_data/Shop DataSet/non shop lifters/shop_lifter_n_41_1.mp4', '/content/video_data/Shop DataSet/non shop lifters/shop_lifter_n_39.mp4', '/content/video_data/Shop DataSet/non shop lifters/shop_lifter_n_13.mp4', '/content/video_data/Shop DataSet/non shop lifters/shop_lifter_n_116.mp4', '/content/video_data/Shop DataSet/non shop lifters/shop_lifter_n_161_1.mp4', '/content/video_data/Shop DataSet/non shop lifters/shop_lifter_n_144.mp4', '/content/video_data/Shop DataSet/non shop lifters/shop_lifter_n_101_1.mp4', '/content/video_data/Shop DataSet/non shop lifters/shop_lifter_n_56_1.mp4', '/content/video_data/Shop DataSet/non shop lifters/shop_lifter_n_196.mp4', '/content/video_data/Shop DataSet/non shop lifters/shop_lifter_n_166.mp4', '/content/video_data/Shop DataSet/non shop lifters/videppppsss_82.mp4', '/content/video_data/Shop DataSet/non shop lifters/shop_lifter_n_12_1.mp4', '/content/video_data/Shop DataSet/non shop lifters/videossssstttsss_51.mp4', '/content/video_data/Shop DataSet/non shop lifters/shop_lifter_n_93_1.mp4', '/content/video_data/Shop DataSet/non shop lifters/shop_lifter_n_0.mp4', '/content/video_data/Shop DataSet/non shop lifters/shop_lifter_n_216.mp4', '/content/video_data/Shop DataSet/non shop lifters/videppppsss_69.mp4', '/content/video_data/Shop DataSet/non shop lifters/shop_lifter_n_166_1.mp4', '/content/video_data/Shop DataSet/non shop lifters/shop_lifter_n_45_1.mp4', '/content/video_data/Shop DataSet/non shop lifters/shop_lifter_n_168.mp4', '/content/video_data/Shop DataSet/non shop lifters/shop_lifter_n_159.mp4', '/content/video_data/Shop DataSet/non shop lifters/shop_lifter_n_46_1.mp4', '/content/video_data/Shop DataSet/non shop lifters/shop_lifter_n_194.mp4', '/content/video_data/Shop DataSet/non shop lifters/videppppsss_45.mp4', '/content/video_data/Shop DataSet/non shop lifters/shop_lifter_n_211_1.mp4', '/content/video_data/Shop DataSet/non shop lifters/shop_lifter_n_185_1.mp4', '/content/video_data/Shop DataSet/non shop lifters/shop_lifter_n_107.mp4', '/content/video_data/Shop DataSet/non shop lifters/shop_lifter_n_180.mp4', '/content/video_data/Shop DataSet/non shop lifters/shop_lifter_n_39_1.mp4', '/content/video_data/Shop DataSet/non shop lifters/shop_lifter_n_89_1.mp4', '/content/video_data/Shop DataSet/non shop lifters/videppppsss_62.mp4', '/content/video_data/Shop DataSet/non shop lifters/videossssstttsss_56.mp4', '/content/video_data/Shop DataSet/non shop lifters/shop_lifter_n_10.mp4', '/content/video_data/Shop DataSet/non shop lifters/shop_lifter_n_8.mp4', '/content/video_data/Shop DataSet/non shop lifters/shop_lifter_n_210.mp4', '/content/video_data/Shop DataSet/non shop lifters/shop_lifter_n_169_1.mp4', '/content/video_data/Shop DataSet/non shop lifters/shop_lifter_n_93.mp4', '/content/video_data/Shop DataSet/non shop lifters/shop_lifter_n_144_1.mp4', '/content/video_data/Shop DataSet/non shop lifters/shop_lifter_n_15_1.mp4', '/content/video_data/Shop DataSet/non shop lifters/videppppsss_31.mp4', '/content/video_data/Shop DataSet/non shop lifters/shop_lifter_n_59.mp4', '/content/video_data/Shop DataSet/non shop lifters/shop_lifter_n_198_1.mp4', '/content/video_data/Shop DataSet/non shop lifters/videppppsss_4.mp4', '/content/video_data/Shop DataSet/non shop lifters/shop_lifter_n_116_1.mp4', '/content/video_data/Shop DataSet/non shop lifters/shop_lifter_n_204_1.mp4', '/content/video_data/Shop DataSet/non shop lifters/shop_lifter_n_186_1.mp4', '/content/video_data/Shop DataSet/non shop lifters/shop_lifter_n_45.mp4', '/content/video_data/Shop DataSet/non shop lifters/shop_lifter_n_33_1.mp4', '/content/video_data/Shop DataSet/non shop lifters/shop_lifter_n_170_1.mp4', '/content/video_data/Shop DataSet/non shop lifters/shop_lifter_n_191_1.mp4', '/content/video_data/Shop DataSet/non shop lifters/shop_lifter_n_132.mp4', '/content/video_data/Shop DataSet/non shop lifters/shop_lifter_n_157.mp4', '/content/video_data/Shop DataSet/non shop lifters/shop_lifter_n_34_1.mp4', '/content/video_data/Shop DataSet/non shop lifters/shop_lifter_n_55.mp4', '/content/video_data/Shop DataSet/non shop lifters/videossssstttsss_48.mp4', '/content/video_data/Shop DataSet/non shop lifters/shop_lifter_n_79.mp4', '/content/video_data/Shop DataSet/non shop lifters/shop_lifter_n_0_1.mp4', '/content/video_data/Shop DataSet/non shop lifters/shop_lifter_n_23_1.mp4', '/content/video_data/Shop DataSet/non shop lifters/shop_lifter_n_51.mp4', '/content/video_data/Shop DataSet/non shop lifters/shop_lifter_n_150_1.mp4', '/content/video_data/Shop DataSet/non shop lifters/videppppsss_19.mp4', '/content/video_data/Shop DataSet/non shop lifters/shop_lifter_n_109.mp4', '/content/video_data/Shop DataSet/non shop lifters/videppppsss_47.mp4', '/content/video_data/Shop DataSet/non shop lifters/shop_lifter_n_140_1.mp4', '/content/video_data/Shop DataSet/non shop lifters/shop_lifter_n_119.mp4', '/content/video_data/Shop DataSet/non shop lifters/shop_lifter_n_35_1.mp4', '/content/video_data/Shop DataSet/non shop lifters/shop_lifter_n_49_1.mp4', '/content/video_data/Shop DataSet/non shop lifters/shop_lifter_n_139.mp4', '/content/video_data/Shop DataSet/non shop lifters/shop_lifter_n_142_1.mp4', '/content/video_data/Shop DataSet/non shop lifters/shop_lifter_n_149.mp4', '/content/video_data/Shop DataSet/non shop lifters/shop_lifter_n_170.mp4', '/content/video_data/Shop DataSet/non shop lifters/shop_lifter_n_25_1.mp4', '/content/video_data/Shop DataSet/non shop lifters/shop_lifter_n_142.mp4', '/content/video_data/Shop DataSet/non shop lifters/shop_lifter_n_151.mp4', '/content/video_data/Shop DataSet/non shop lifters/shop_lifter_n_179.mp4', '/content/video_data/Shop DataSet/non shop lifters/shop_lifter_n_53.mp4', '/content/video_data/Shop DataSet/non shop lifters/shop_lifter_n_124.mp4', '/content/video_data/Shop DataSet/non shop lifters/shop_lifter_n_110_1.mp4', '/content/video_data/Shop DataSet/non shop lifters/shop_lifter_n_129_1.mp4', '/content/video_data/Shop DataSet/non shop lifters/shop_lifter_n_58_1.mp4', '/content/video_data/Shop DataSet/non shop lifters/shop_lifter_n_213_1.mp4', '/content/video_data/Shop DataSet/non shop lifters/shop_lifter_n_215.mp4', '/content/video_data/Shop DataSet/non shop lifters/videppppsss_0.mp4', '/content/video_data/Shop DataSet/non shop lifters/shop_lifter_n_140.mp4', '/content/video_data/Shop DataSet/non shop lifters/videppppsss_52.mp4', '/content/video_data/Shop DataSet/non shop lifters/shop_lifter_n_4_1.mp4', '/content/video_data/Shop DataSet/non shop lifters/shop_lifter_n_7_1.mp4', '/content/video_data/Shop DataSet/non shop lifters/shop_lifter_n_190_1.mp4', '/content/video_data/Shop DataSet/non shop lifters/videppppsss_24.mp4', '/content/video_data/Shop DataSet/non shop lifters/shop_lifter_n_2_1.mp4', '/content/video_data/Shop DataSet/non shop lifters/shop_lifter_n_49.mp4', '/content/video_data/Shop DataSet/non shop lifters/shop_lifter_n_28_1.mp4', '/content/video_data/Shop DataSet/non shop lifters/videppppsss_13.mp4', '/content/video_data/Shop DataSet/non shop lifters/shop_lifter_n_7.mp4', '/content/video_data/Shop DataSet/non shop lifters/videppppsss_14.mp4', '/content/video_data/Shop DataSet/non shop lifters/videppppsss_5.mp4', '/content/video_data/Shop DataSet/non shop lifters/shop_lifter_n_200_1.mp4', '/content/video_data/Shop DataSet/non shop lifters/videppppsss_30.mp4', '/content/video_data/Shop DataSet/non shop lifters/shop_lifter_n_147_1.mp4', '/content/video_data/Shop DataSet/non shop lifters/videppppsss_41.mp4', '/content/video_data/Shop DataSet/non shop lifters/videppppsss_83.mp4', '/content/video_data/Shop DataSet/non shop lifters/shop_lifter_n_123_1.mp4', '/content/video_data/Shop DataSet/non shop lifters/shop_lifter_n_98.mp4', '/content/video_data/Shop DataSet/non shop lifters/shop_lifter_n_130_1.mp4', '/content/video_data/Shop DataSet/non shop lifters/shop_lifter_n_88_1.mp4', '/content/video_data/Shop DataSet/non shop lifters/shop_lifter_n_1.mp4', '/content/video_data/Shop DataSet/non shop lifters/shop_lifter_n_20_1.mp4', '/content/video_data/Shop DataSet/non shop lifters/shop_lifter_n_108_1.mp4', '/content/video_data/Shop DataSet/non shop lifters/shop_lifter_n_2.mp4', '/content/video_data/Shop DataSet/non shop lifters/shop_lifter_n_156.mp4', '/content/video_data/Shop DataSet/non shop lifters/shop_lifter_n_175_1.mp4', '/content/video_data/Shop DataSet/non shop lifters/videppppsss_10.mp4', '/content/video_data/Shop DataSet/non shop lifters/videppppsss_77.mp4', '/content/video_data/Shop DataSet/non shop lifters/shop_lifter_n_169.mp4', '/content/video_data/Shop DataSet/non shop lifters/shop_lifter_n_9.mp4', '/content/video_data/Shop DataSet/non shop lifters/videppppsss_56.mp4', '/content/video_data/Shop DataSet/non shop lifters/shop_lifter_n_189.mp4', '/content/video_data/Shop DataSet/non shop lifters/shop_lifter_n_76.mp4', '/content/video_data/Shop DataSet/non shop lifters/shop_lifter_n_102.mp4', '/content/video_data/Shop DataSet/non shop lifters/shop_lifter_n_133.mp4', '/content/video_data/Shop DataSet/non shop lifters/shop_lifter_n_31.mp4', '/content/video_data/Shop DataSet/non shop lifters/shop_lifter_n_44_1.mp4', '/content/video_data/Shop DataSet/non shop lifters/shop_lifter_n_207_1.mp4', '/content/video_data/Shop DataSet/non shop lifters/shop_lifter_n_184_1.mp4', '/content/video_data/Shop DataSet/non shop lifters/shop_lifter_n_43_1.mp4', '/content/video_data/Shop DataSet/non shop lifters/shop_lifter_n_48_1.mp4', '/content/video_data/Shop DataSet/non shop lifters/shop_lifter_n_90.mp4', '/content/video_data/Shop DataSet/non shop lifters/shop_lifter_n_99_1.mp4', '/content/video_data/Shop DataSet/non shop lifters/shop_lifter_n_148_1.mp4', '/content/video_data/Shop DataSet/non shop lifters/shop_lifter_n_193_1.mp4', '/content/video_data/Shop DataSet/non shop lifters/shop_lifter_n_122_1.mp4', '/content/video_data/Shop DataSet/non shop lifters/shop_lifter_n_18_1.mp4', '/content/video_data/Shop DataSet/non shop lifters/shop_lifter_n_75_1.mp4', '/content/video_data/Shop DataSet/non shop lifters/shop_lifter_n_52_1.mp4', '/content/video_data/Shop DataSet/non shop lifters/shop_lifter_n_182_1.mp4', '/content/video_data/Shop DataSet/non shop lifters/shop_lifter_n_106_1.mp4', '/content/video_data/Shop DataSet/non shop lifters/shop_lifter_n_80_1.mp4', '/content/video_data/Shop DataSet/non shop lifters/videppppsss_51.mp4', '/content/video_data/Shop DataSet/non shop lifters/videossssstttsss_49.mp4', '/content/video_data/Shop DataSet/non shop lifters/shop_lifter_n_27.mp4', '/content/video_data/Shop DataSet/non shop lifters/shop_lifter_n_120.mp4', '/content/video_data/Shop DataSet/non shop lifters/shop_lifter_n_107_1.mp4', '/content/video_data/Shop DataSet/non shop lifters/shop_lifter_n_36_1.mp4', '/content/video_data/Shop DataSet/non shop lifters/shop_lifter_n_152_1.mp4', '/content/video_data/Shop DataSet/non shop lifters/shop_lifter_n_22.mp4', '/content/video_data/Shop DataSet/non shop lifters/shop_lifter_n_165_1.mp4', '/content/video_data/Shop DataSet/non shop lifters/shop_lifter_n_177.mp4', '/content/video_data/Shop DataSet/non shop lifters/shop_lifter_n_197_1.mp4', '/content/video_data/Shop DataSet/non shop lifters/shop_lifter_n_183_1.mp4', '/content/video_data/Shop DataSet/non shop lifters/shop_lifter_n_72.mp4', '/content/video_data/Shop DataSet/non shop lifters/shop_lifter_n_136.mp4', '/content/video_data/Shop DataSet/non shop lifters/shop_lifter_n_128.mp4', '/content/video_data/Shop DataSet/non shop lifters/videppppsss_76.mp4', '/content/video_data/Shop DataSet/non shop lifters/shop_lifter_n_141_1.mp4', '/content/video_data/Shop DataSet/non shop lifters/shop_lifter_n_67.mp4', '/content/video_data/Shop DataSet/non shop lifters/shop_lifter_n_63_1.mp4', '/content/video_data/Shop DataSet/non shop lifters/shop_lifter_n_195_1.mp4', '/content/video_data/Shop DataSet/non shop lifters/shop_lifter_n_79_1.mp4', '/content/video_data/Shop DataSet/non shop lifters/shop_lifter_n_70_1.mp4', '/content/video_data/Shop DataSet/non shop lifters/videppppsss_53.mp4', '/content/video_data/Shop DataSet/non shop lifters/shop_lifter_n_103_1.mp4', '/content/video_data/Shop DataSet/non shop lifters/shop_lifter_n_32_1.mp4', '/content/video_data/Shop DataSet/non shop lifters/shop_lifter_n_138_1.mp4', '/content/video_data/Shop DataSet/non shop lifters/shop_lifter_n_115_1.mp4', '/content/video_data/Shop DataSet/non shop lifters/videppppsss_26.mp4', '/content/video_data/Shop DataSet/non shop lifters/shop_lifter_n_120_1.mp4', '/content/video_data/Shop DataSet/non shop lifters/shop_lifter_n_26_1.mp4', '/content/video_data/Shop DataSet/non shop lifters/shop_lifter_n_68.mp4', '/content/video_data/Shop DataSet/non shop lifters/shop_lifter_n_122.mp4', '/content/video_data/Shop DataSet/non shop lifters/videppppsss_75.mp4', '/content/video_data/Shop DataSet/non shop lifters/shop_lifter_n_38.mp4', '/content/video_data/Shop DataSet/non shop lifters/shop_lifter_n_162_1.mp4', '/content/video_data/Shop DataSet/non shop lifters/shop_lifter_n_139_1.mp4', '/content/video_data/Shop DataSet/non shop lifters/shop_lifter_n_131_1.mp4', '/content/video_data/Shop DataSet/non shop lifters/shop_lifter_n_60.mp4', '/content/video_data/Shop DataSet/non shop lifters/shop_lifter_n_173_1.mp4', '/content/video_data/Shop DataSet/non shop lifters/shop_lifter_n_97.mp4', '/content/video_data/Shop DataSet/non shop lifters/shop_lifter_n_174_1.mp4', '/content/video_data/Shop DataSet/non shop lifters/shop_lifter_n_86.mp4', '/content/video_data/Shop DataSet/non shop lifters/shop_lifter_n_95.mp4', '/content/video_data/Shop DataSet/non shop lifters/shop_lifter_n_104_1.mp4', '/content/video_data/Shop DataSet/non shop lifters/shop_lifter_n_99.mp4', '/content/video_data/Shop DataSet/non shop lifters/shop_lifter_n_4.mp4', '/content/video_data/Shop DataSet/non shop lifters/videppppsss_55.mp4', '/content/video_data/Shop DataSet/non shop lifters/shop_lifter_n_203_1.mp4', '/content/video_data/Shop DataSet/shop lifters/videyyyyyyyyyss_16.mp4', '/content/video_data/Shop DataSet/shop lifters/videyyyyyynnnnnnzzzzzyyyss_20.mp4', '/content/video_data/Shop DataSet/shop lifters/videyyyyyynnnnnnzzzzzyyyss_13.mp4', '/content/video_data/Shop DataSet/shop lifters/shop_lifter_75.mp4', '/content/video_data/Shop DataSet/shop lifters/videyyyyyynnnnnnzzzzzyyyss_19.mp4', '/content/video_data/Shop DataSet/shop lifters/shop_lifter_35.mp4', '/content/video_data/Shop DataSet/shop lifters/shop_lifter_70.mp4', '/content/video_data/Shop DataSet/shop lifters/videyyyyyyyyyss_25.mp4', '/content/video_data/Shop DataSet/shop lifters/shop_lifter_58.mp4', '/content/video_data/Shop DataSet/shop lifters/videppppsss_8.mp4', '/content/video_data/Shop DataSet/shop lifters/videyyyyyyyyyss_31.mp4', '/content/video_data/Shop DataSet/shop lifters/shop_lifter_114.mp4', '/content/video_data/Shop DataSet/shop lifters/shop_lifter_20.mp4', '/content/video_data/Shop DataSet/shop lifters/shop_lifter_57.mp4', '/content/video_data/Shop DataSet/shop lifters/shop_lifter_44.mp4', '/content/video_data/Shop DataSet/shop lifters/shop_lifter_7.mp4', '/content/video_data/Shop DataSet/shop lifters/videppppsss_43.mp4', '/content/video_data/Shop DataSet/shop lifters/shop_lifter_92.mp4', '/content/video_data/Shop DataSet/shop lifters/videyyyyyyyyyss_36.mp4', '/content/video_data/Shop DataSet/shop lifters/videppppsss_17.mp4', '/content/video_data/Shop DataSet/shop lifters/videyyyyyyyyyss_59.mp4', '/content/video_data/Shop DataSet/shop lifters/videyyyyyyyyyss_11.mp4', '/content/video_data/Shop DataSet/shop lifters/videyyyyyyyyyss_17.mp4', '/content/video_data/Shop DataSet/shop lifters/shop_lifter_10.mp4', '/content/video_data/Shop DataSet/shop lifters/videyyyyyynnnnnnzzzzzyyyss_16.mp4', '/content/video_data/Shop DataSet/shop lifters/videyyyyyynnnnnnzzzzzyyyss_27.mp4', '/content/video_data/Shop DataSet/shop lifters/videyyyyyyyyyss_26.mp4', '/content/video_data/Shop DataSet/shop lifters/videyyyyyynnnnnnzzzzzyyyss_9.mp4', '/content/video_data/Shop DataSet/shop lifters/videmmmmmmsss_92.mp4', '/content/video_data/Shop DataSet/shop lifters/videyyyyyyyyyss_47.mp4', '/content/video_data/Shop DataSet/shop lifters/videyyyyyyyyyss_62.mp4', '/content/video_data/Shop DataSet/shop lifters/videyyyyyynnnnnnzzzzzyyyss_8.mp4', '/content/video_data/Shop DataSet/shop lifters/shop_lifter_56.mp4', '/content/video_data/Shop DataSet/shop lifters/videyyyyyynnnnnnzzzzzyyyss_1.mp4', '/content/video_data/Shop DataSet/shop lifters/shop_lifter_89.mp4', '/content/video_data/Shop DataSet/shop lifters/shop_lifter_127.mp4', '/content/video_data/Shop DataSet/shop lifters/videyyyyyyyyyss_24.mp4', '/content/video_data/Shop DataSet/shop lifters/shop_lifter_3.mp4', '/content/video_data/Shop DataSet/shop lifters/videyyyyyyzzzzzyyyss_0.mp4', '/content/video_data/Shop DataSet/shop lifters/shop_lifter_31.mp4', '/content/video_data/Shop DataSet/shop lifters/videyyyyyyyyyss_43.mp4', '/content/video_data/Shop DataSet/shop lifters/shop_lifter_69.mp4', '/content/video_data/Shop DataSet/shop lifters/videyyyyyynnnnnnzzzzzyyyss_18.mp4', '/content/video_data/Shop DataSet/shop lifters/shop_lifter_6.mp4', '/content/video_data/Shop DataSet/shop lifters/shop_lifter_74.mp4', '/content/video_data/Shop DataSet/shop lifters/videppppsss_36.mp4', '/content/video_data/Shop DataSet/shop lifters/shop_lifter_79.mp4', '/content/video_data/Shop DataSet/shop lifters/shop_lifter_99.mp4', '/content/video_data/Shop DataSet/shop lifters/shop_lifter_30.mp4', '/content/video_data/Shop DataSet/shop lifters/shop_lifter_112.mp4', '/content/video_data/Shop DataSet/shop lifters/shop_lifter_81.mp4', '/content/video_data/Shop DataSet/shop lifters/videyyyyyynnnnnnzzzzzyyyss_0.mp4', '/content/video_data/Shop DataSet/shop lifters/videyyyyyyyyyss_12.mp4', '/content/video_data/Shop DataSet/shop lifters/videyyyyyyyyyss_13.mp4', '/content/video_data/Shop DataSet/shop lifters/videyyyyyynnnnnnzzzzzyyyss_11.mp4', '/content/video_data/Shop DataSet/shop lifters/videppppsss_23.mp4', '/content/video_data/Shop DataSet/shop lifters/shop_lifter_125.mp4', '/content/video_data/Shop DataSet/shop lifters/videppppsss_27.mp4', '/content/video_data/Shop DataSet/shop lifters/shop_lifter_73.mp4', '/content/video_data/Shop DataSet/shop lifters/shop_lifter_21.mp4', '/content/video_data/Shop DataSet/shop lifters/videyyyyyyzzzzzyyyss_9.mp4', '/content/video_data/Shop DataSet/shop lifters/shop_lifter_117.mp4', '/content/video_data/Shop DataSet/shop lifters/videppppsss_16.mp4', '/content/video_data/Shop DataSet/shop lifters/videyyyyyyzzzzzyyyss_7.mp4', '/content/video_data/Shop DataSet/shop lifters/shop_lifter_27.mp4', '/content/video_data/Shop DataSet/shop lifters/shop_lifter_42.mp4', '/content/video_data/Shop DataSet/shop lifters/shop_lifter_116.mp4', '/content/video_data/Shop DataSet/shop lifters/videyyyyyyzzzzzyyyss_13.mp4', '/content/video_data/Shop DataSet/shop lifters/videyyyyyynnnnnnzzzzzyyyss_4.mp4', '/content/video_data/Shop DataSet/shop lifters/shop_lifter_22.mp4', '/content/video_data/Shop DataSet/shop lifters/videppppsss_54.mp4', '/content/video_data/Shop DataSet/shop lifters/videyyyyyyzzzzzyyyss_23.mp4', '/content/video_data/Shop DataSet/shop lifters/videppppsss_35.mp4', '/content/video_data/Shop DataSet/shop lifters/videmmmmmmsss_93.mp4', '/content/video_data/Shop DataSet/shop lifters/videppppsss_25.mp4', '/content/video_data/Shop DataSet/shop lifters/videyyyyyyyyyss_2.mp4', '/content/video_data/Shop DataSet/shop lifters/shop_lifter_68.mp4', '/content/video_data/Shop DataSet/shop lifters/videyyyyyyyyyss_23.mp4', '/content/video_data/Shop DataSet/shop lifters/videyyyyyyzzzzzyyyss_19.mp4', '/content/video_data/Shop DataSet/shop lifters/shop_lifter_103.mp4', '/content/video_data/Shop DataSet/shop lifters/videyyyyyyyyyss_18.mp4', '/content/video_data/Shop DataSet/shop lifters/videyyyyyyzzzzzyyyss_20.mp4', '/content/video_data/Shop DataSet/shop lifters/videyyyyyynnnnnnzzzzzyyyss_29.mp4', '/content/video_data/Shop DataSet/shop lifters/videyyyyyyyyyss_41.mp4', '/content/video_data/Shop DataSet/shop lifters/videppppsss_15.mp4', '/content/video_data/Shop DataSet/shop lifters/videyyyyyyyyyss_46.mp4', '/content/video_data/Shop DataSet/shop lifters/shop_lifter_77.mp4', '/content/video_data/Shop DataSet/shop lifters/videppppsss_46.mp4', '/content/video_data/Shop DataSet/shop lifters/videppppsss_1.mp4', '/content/video_data/Shop DataSet/shop lifters/videyyyyyyyyyss_27.mp4', '/content/video_data/Shop DataSet/shop lifters/videmmmmmmsss_88.mp4', '/content/video_data/Shop DataSet/shop lifters/videyyyyyyyyyss_58.mp4', '/content/video_data/Shop DataSet/shop lifters/shop_lifter_43.mp4', '/content/video_data/Shop DataSet/shop lifters/videppppsss_48.mp4', '/content/video_data/Shop DataSet/shop lifters/shop_lifter_19.mp4', '/content/video_data/Shop DataSet/shop lifters/videyyyyyyyyyss_14.mp4', '/content/video_data/Shop DataSet/shop lifters/videyyyyyyyyyss_50.mp4', '/content/video_data/Shop DataSet/shop lifters/videyyyyyyyyyss_60.mp4', '/content/video_data/Shop DataSet/shop lifters/videmmmmmmsss_96.mp4', '/content/video_data/Shop DataSet/shop lifters/shop_lifter_128.mp4', '/content/video_data/Shop DataSet/shop lifters/videppppsss_29.mp4', '/content/video_data/Shop DataSet/shop lifters/shop_lifter_11.mp4', '/content/video_data/Shop DataSet/shop lifters/shop_lifter_90.mp4', '/content/video_data/Shop DataSet/shop lifters/shop_lifter_109.mp4', '/content/video_data/Shop DataSet/shop lifters/videppppsss_34.mp4', '/content/video_data/Shop DataSet/shop lifters/shop_lifter_50.mp4', '/content/video_data/Shop DataSet/shop lifters/videppppsss_12.mp4', '/content/video_data/Shop DataSet/shop lifters/videyyyyyynnnnnnzzzzzyyyss_10.mp4', '/content/video_data/Shop DataSet/shop lifters/shop_lifter_80.mp4', '/content/video_data/Shop DataSet/shop lifters/videyyyyyyyyyss_22.mp4', '/content/video_data/Shop DataSet/shop lifters/videmmmmmmsss_102.mp4', '/content/video_data/Shop DataSet/shop lifters/shop_lifter_83.mp4', '/content/video_data/Shop DataSet/shop lifters/videyyyyyyzzzzzyyyss_18.mp4', '/content/video_data/Shop DataSet/shop lifters/shop_lifter_85.mp4', '/content/video_data/Shop DataSet/shop lifters/videmmmmmmsss_87.mp4', '/content/video_data/Shop DataSet/shop lifters/videyyyyyyyyyss_65.mp4', '/content/video_data/Shop DataSet/shop lifters/videyyyyyyyyyss_20.mp4', '/content/video_data/Shop DataSet/shop lifters/shop_lifter_40.mp4', '/content/video_data/Shop DataSet/shop lifters/videmmmmmmsss_100.mp4', '/content/video_data/Shop DataSet/shop lifters/videyyyyyynnnnnnzzzzzyyyss_28.mp4', '/content/video_data/Shop DataSet/shop lifters/shop_lifter_110.mp4', '/content/video_data/Shop DataSet/shop lifters/shop_lifter_37.mp4', '/content/video_data/Shop DataSet/shop lifters/shop_lifter_96.mp4', '/content/video_data/Shop DataSet/shop lifters/videyyyyyyyyyss_30.mp4', '/content/video_data/Shop DataSet/shop lifters/videppppsss_32.mp4', '/content/video_data/Shop DataSet/shop lifters/videppppsss_3.mp4', '/content/video_data/Shop DataSet/shop lifters/videmmmmmmsss_95.mp4', '/content/video_data/Shop DataSet/shop lifters/videyyyyyyzzzzzyyyss_2.mp4', '/content/video_data/Shop DataSet/shop lifters/shop_lifter_91.mp4', '/content/video_data/Shop DataSet/shop lifters/videppppsss_40.mp4', '/content/video_data/Shop DataSet/shop lifters/videyyyyyyyyyss_0.mp4', '/content/video_data/Shop DataSet/shop lifters/videppppsss_33.mp4', '/content/video_data/Shop DataSet/shop lifters/shop_lifter_106.mp4', '/content/video_data/Shop DataSet/shop lifters/videyyyyyyyyyss_63.mp4', '/content/video_data/Shop DataSet/shop lifters/videyyyyyyzzzzzyyyss_15.mp4', '/content/video_data/Shop DataSet/shop lifters/shop_lifter_120.mp4', '/content/video_data/Shop DataSet/shop lifters/shop_lifter_113.mp4', '/content/video_data/Shop DataSet/shop lifters/shop_lifter_61.mp4', '/content/video_data/Shop DataSet/shop lifters/videyyyyyyyyyss_45.mp4', '/content/video_data/Shop DataSet/shop lifters/videyyyyyynnnnnnzzzzzyyyss_12.mp4', '/content/video_data/Shop DataSet/shop lifters/videppppsss_44.mp4', '/content/video_data/Shop DataSet/shop lifters/shop_lifter_111.mp4', '/content/video_data/Shop DataSet/shop lifters/shop_lifter_48.mp4', '/content/video_data/Shop DataSet/shop lifters/shop_lifter_115.mp4', '/content/video_data/Shop DataSet/shop lifters/shop_lifter_78.mp4', '/content/video_data/Shop DataSet/shop lifters/videyyyyyynnnnnnzzzzzyyyss_26.mp4', '/content/video_data/Shop DataSet/shop lifters/videyyyyyynnnnnnzzzzzyyyss_21.mp4', '/content/video_data/Shop DataSet/shop lifters/shop_lifter_16.mp4', '/content/video_data/Shop DataSet/shop lifters/videmmmmmmsss_99.mp4', '/content/video_data/Shop DataSet/shop lifters/videppppsss_18.mp4', '/content/video_data/Shop DataSet/shop lifters/videyyyyyyzzzzzyyyss_6.mp4', '/content/video_data/Shop DataSet/shop lifters/shop_lifter_65.mp4', '/content/video_data/Shop DataSet/shop lifters/videyyyyyyyyyss_37.mp4', '/content/video_data/Shop DataSet/shop lifters/videyyyyyyyyyss_34.mp4', '/content/video_data/Shop DataSet/shop lifters/shop_lifter_98.mp4', '/content/video_data/Shop DataSet/shop lifters/videyyyyyyyyyss_15.mp4', '/content/video_data/Shop DataSet/shop lifters/videppppsss_21.mp4', '/content/video_data/Shop DataSet/shop lifters/shop_lifter_126.mp4', '/content/video_data/Shop DataSet/shop lifters/videyyyyyyyyyss_49.mp4', '/content/video_data/Shop DataSet/shop lifters/videppppsss_38.mp4', '/content/video_data/Shop DataSet/shop lifters/videppppsss_42.mp4', '/content/video_data/Shop DataSet/shop lifters/videyyyyyynnnnnnzzzzzyyyss_15.mp4', '/content/video_data/Shop DataSet/shop lifters/shop_lifter_29.mp4', '/content/video_data/Shop DataSet/shop lifters/shop_lifter_66.mp4', '/content/video_data/Shop DataSet/shop lifters/shop_lifter_24.mp4', '/content/video_data/Shop DataSet/shop lifters/videyyyyyyyyyss_44.mp4', '/content/video_data/Shop DataSet/shop lifters/shop_lifter_5.mp4', '/content/video_data/Shop DataSet/shop lifters/videppppsss_2.mp4', '/content/video_data/Shop DataSet/shop lifters/shop_lifter_63.mp4', '/content/video_data/Shop DataSet/shop lifters/videyyyyyyyyyss_55.mp4', '/content/video_data/Shop DataSet/shop lifters/videppppsss_39.mp4', '/content/video_data/Shop DataSet/shop lifters/videyyyyyyyyyss_48.mp4', '/content/video_data/Shop DataSet/shop lifters/shop_lifter_14.mp4', '/content/video_data/Shop DataSet/shop lifters/shop_lifter_23.mp4', '/content/video_data/Shop DataSet/shop lifters/videyyyyyynnnnnnzzzzzyyyss_22.mp4', '/content/video_data/Shop DataSet/shop lifters/videyyyyyyyyyss_6.mp4', '/content/video_data/Shop DataSet/shop lifters/videppppsss_7.mp4', '/content/video_data/Shop DataSet/shop lifters/shop_lifter_13.mp4', '/content/video_data/Shop DataSet/shop lifters/videppppsss_9.mp4', '/content/video_data/Shop DataSet/shop lifters/shop_lifter_64.mp4', '/content/video_data/Shop DataSet/shop lifters/videppppsss_28.mp4', '/content/video_data/Shop DataSet/shop lifters/videyyyyyyyyyss_35.mp4', '/content/video_data/Shop DataSet/shop lifters/videyyyyyyyyyss_39.mp4', '/content/video_data/Shop DataSet/shop lifters/shop_lifter_28.mp4', '/content/video_data/Shop DataSet/shop lifters/videppppsss_11.mp4', '/content/video_data/Shop DataSet/shop lifters/videmmmmmmsss_85.mp4', '/content/video_data/Shop DataSet/shop lifters/videppppsss_6.mp4', '/content/video_data/Shop DataSet/shop lifters/shop_lifter_4.mp4', '/content/video_data/Shop DataSet/shop lifters/shop_lifter_36.mp4', '/content/video_data/Shop DataSet/shop lifters/videyyyyyyzzzzzyyyss_17.mp4', '/content/video_data/Shop DataSet/shop lifters/shop_lifter_62.mp4', '/content/video_data/Shop DataSet/shop lifters/videppppsss_22.mp4', '/content/video_data/Shop DataSet/shop lifters/shop_lifter_25.mp4', '/content/video_data/Shop DataSet/shop lifters/shop_lifter_47.mp4', '/content/video_data/Shop DataSet/shop lifters/shop_lifter_51.mp4', '/content/video_data/Shop DataSet/shop lifters/shop_lifter_60.mp4', '/content/video_data/Shop DataSet/shop lifters/videppppsss_20.mp4', '/content/video_data/Shop DataSet/shop lifters/videmmmmmmsss_90.mp4', '/content/video_data/Shop DataSet/shop lifters/shop_lifter_94.mp4', '/content/video_data/Shop DataSet/shop lifters/videyyyyyyyyyss_53.mp4', '/content/video_data/Shop DataSet/shop lifters/videppppsss_37.mp4', '/content/video_data/Shop DataSet/shop lifters/videmmmmmmsss_97.mp4', '/content/video_data/Shop DataSet/shop lifters/shop_lifter_53.mp4', '/content/video_data/Shop DataSet/shop lifters/videyyyyyynnnnnnzzzzzyyyss_25.mp4', '/content/video_data/Shop DataSet/shop lifters/videmmmmmmsss_91.mp4', '/content/video_data/Shop DataSet/shop lifters/videppppsss_50.mp4', '/content/video_data/Shop DataSet/shop lifters/shop_lifter_9.mp4', '/content/video_data/Shop DataSet/shop lifters/videppppsss_49.mp4', '/content/video_data/Shop DataSet/shop lifters/shop_lifter_71.mp4', '/content/video_data/Shop DataSet/shop lifters/shop_lifter_46.mp4', '/content/video_data/Shop DataSet/shop lifters/videyyyyyyyyyss_8.mp4', '/content/video_data/Shop DataSet/shop lifters/videyyyyyyzzzzzyyyss_1.mp4', '/content/video_data/Shop DataSet/shop lifters/shop_lifter_67.mp4', '/content/video_data/Shop DataSet/shop lifters/videmmmmmmsss_98.mp4', '/content/video_data/Shop DataSet/shop lifters/shop_lifter_107.mp4', '/content/video_data/Shop DataSet/shop lifters/shop_lifter_55.mp4', '/content/video_data/Shop DataSet/shop lifters/shop_lifter_97.mp4', '/content/video_data/Shop DataSet/shop lifters/videyyyyyyyyyss_51.mp4', '/content/video_data/Shop DataSet/shop lifters/videyyyyyyyyyss_7.mp4', '/content/video_data/Shop DataSet/shop lifters/shop_lifter_93.mp4', '/content/video_data/Shop DataSet/shop lifters/shop_lifter_0.mp4', '/content/video_data/Shop DataSet/shop lifters/videyyyyyyyyyss_3.mp4', '/content/video_data/Shop DataSet/shop lifters/videyyyyyyzzzzzyyyss_4.mp4', '/content/video_data/Shop DataSet/shop lifters/shop_lifter_105.mp4', '/content/video_data/Shop DataSet/shop lifters/videyyyyyyyyyss_19.mp4', '/content/video_data/Shop DataSet/shop lifters/videppppsss_45.mp4', '/content/video_data/Shop DataSet/shop lifters/shop_lifter_49.mp4', '/content/video_data/Shop DataSet/shop lifters/shop_lifter_1.mp4', '/content/video_data/Shop DataSet/shop lifters/videyyyyyyyyyss_28.mp4', '/content/video_data/Shop DataSet/shop lifters/videyyyyyyzzzzzyyyss_12.mp4', '/content/video_data/Shop DataSet/shop lifters/shop_lifter_17.mp4', '/content/video_data/Shop DataSet/shop lifters/videyyyyyyyyyss_56.mp4', '/content/video_data/Shop DataSet/shop lifters/shop_lifter_108.mp4', '/content/video_data/Shop DataSet/shop lifters/shop_lifter_87.mp4', '/content/video_data/Shop DataSet/shop lifters/videmmmmmmsss_101.mp4', '/content/video_data/Shop DataSet/shop lifters/videyyyyyyyyyss_57.mp4', '/content/video_data/Shop DataSet/shop lifters/shop_lifter_32.mp4', '/content/video_data/Shop DataSet/shop lifters/shop_lifter_122.mp4', '/content/video_data/Shop DataSet/shop lifters/shop_lifter_124.mp4', '/content/video_data/Shop DataSet/shop lifters/shop_lifter_100.mp4', '/content/video_data/Shop DataSet/shop lifters/videyyyyyynnnnnnzzzzzyyyss_3.mp4', '/content/video_data/Shop DataSet/shop lifters/shop_lifter_38.mp4', '/content/video_data/Shop DataSet/shop lifters/videppppsss_31.mp4', '/content/video_data/Shop DataSet/shop lifters/shop_lifter_101.mp4', '/content/video_data/Shop DataSet/shop lifters/videyyyyyyyyyss_9.mp4', '/content/video_data/Shop DataSet/shop lifters/videppppsss_4.mp4', '/content/video_data/Shop DataSet/shop lifters/videyyyyyyyyyss_61.mp4', '/content/video_data/Shop DataSet/shop lifters/videyyyyyyyyyss_4.mp4', '/content/video_data/Shop DataSet/shop lifters/videyyyyyyzzzzzyyyss_14.mp4', '/content/video_data/Shop DataSet/shop lifters/videyyyyyyyyyss_40.mp4', '/content/video_data/Shop DataSet/shop lifters/videppppsss_19.mp4', '/content/video_data/Shop DataSet/shop lifters/shop_lifter_8.mp4', '/content/video_data/Shop DataSet/shop lifters/videppppsss_47.mp4', '/content/video_data/Shop DataSet/shop lifters/shop_lifter_45.mp4', '/content/video_data/Shop DataSet/shop lifters/videyyyyyyzzzzzyyyss_11.mp4', '/content/video_data/Shop DataSet/shop lifters/videyyyyyyzzzzzyyyss_22.mp4', '/content/video_data/Shop DataSet/shop lifters/videyyyyyynnnnnnzzzzzyyyss_2.mp4', '/content/video_data/Shop DataSet/shop lifters/videyyyyyyyyyss_64.mp4', '/content/video_data/Shop DataSet/shop lifters/videyyyyyyyyyss_54.mp4', '/content/video_data/Shop DataSet/shop lifters/videyyyyyyzzzzzyyyss_21.mp4', '/content/video_data/Shop DataSet/shop lifters/shop_lifter_95.mp4', '/content/video_data/Shop DataSet/shop lifters/videppppsss_0.mp4', '/content/video_data/Shop DataSet/shop lifters/videppppsss_52.mp4', '/content/video_data/Shop DataSet/shop lifters/shop_lifter_76.mp4', '/content/video_data/Shop DataSet/shop lifters/videyyyyyyyyyss_1.mp4', '/content/video_data/Shop DataSet/shop lifters/videppppsss_24.mp4', '/content/video_data/Shop DataSet/shop lifters/videppppsss_13.mp4', '/content/video_data/Shop DataSet/shop lifters/videppppsss_14.mp4', '/content/video_data/Shop DataSet/shop lifters/videyyyyyyyyyss_38.mp4', '/content/video_data/Shop DataSet/shop lifters/shop_lifter_88.mp4', '/content/video_data/Shop DataSet/shop lifters/videppppsss_5.mp4', '/content/video_data/Shop DataSet/shop lifters/shop_lifter_39.mp4', '/content/video_data/Shop DataSet/shop lifters/videppppsss_30.mp4', '/content/video_data/Shop DataSet/shop lifters/videppppsss_41.mp4', '/content/video_data/Shop DataSet/shop lifters/videyyyyyyzzzzzyyyss_5.mp4', '/content/video_data/Shop DataSet/shop lifters/shop_lifter_72.mp4', '/content/video_data/Shop DataSet/shop lifters/videyyyyyyyyyss_29.mp4', '/content/video_data/Shop DataSet/shop lifters/videppppsss_10.mp4', '/content/video_data/Shop DataSet/shop lifters/videyyyyyyzzzzzyyyss_3.mp4', '/content/video_data/Shop DataSet/shop lifters/videyyyyyyzzzzzyyyss_24.mp4', '/content/video_data/Shop DataSet/shop lifters/shop_lifter_121.mp4', '/content/video_data/Shop DataSet/shop lifters/videyyyyyynnnnnnzzzzzyyyss_5.mp4', '/content/video_data/Shop DataSet/shop lifters/shop_lifter_54.mp4', '/content/video_data/Shop DataSet/shop lifters/shop_lifter_12.mp4', '/content/video_data/Shop DataSet/shop lifters/videmmmmmmsss_89.mp4', '/content/video_data/Shop DataSet/shop lifters/videyyyyyyzzzzzyyyss_10.mp4', '/content/video_data/Shop DataSet/shop lifters/videyyyyyyyyyss_32.mp4', '/content/video_data/Shop DataSet/shop lifters/shop_lifter_84.mp4', '/content/video_data/Shop DataSet/shop lifters/videyyyyyyyyyss_52.mp4', '/content/video_data/Shop DataSet/shop lifters/videyyyyyyzzzzzyyyss_8.mp4', '/content/video_data/Shop DataSet/shop lifters/videppppsss_51.mp4', '/content/video_data/Shop DataSet/shop lifters/shop_lifter_82.mp4', '/content/video_data/Shop DataSet/shop lifters/videyyyyyynnnnnnzzzzzyyyss_24.mp4', '/content/video_data/Shop DataSet/shop lifters/shop_lifter_102.mp4', '/content/video_data/Shop DataSet/shop lifters/shop_lifter_26.mp4', '/content/video_data/Shop DataSet/shop lifters/videyyyyyynnnnnnzzzzzyyyss_14.mp4', '/content/video_data/Shop DataSet/shop lifters/shop_lifter_119.mp4', '/content/video_data/Shop DataSet/shop lifters/videyyyyyyyyyss_42.mp4', '/content/video_data/Shop DataSet/shop lifters/videyyyyyyzzzzzyyyss_16.mp4', '/content/video_data/Shop DataSet/shop lifters/shop_lifter_59.mp4', '/content/video_data/Shop DataSet/shop lifters/shop_lifter_86.mp4', '/content/video_data/Shop DataSet/shop lifters/shop_lifter_18.mp4', '/content/video_data/Shop DataSet/shop lifters/shop_lifter_118.mp4', '/content/video_data/Shop DataSet/shop lifters/shop_lifter_52.mp4', '/content/video_data/Shop DataSet/shop lifters/videppppsss_53.mp4', '/content/video_data/Shop DataSet/shop lifters/videyyyyyynnnnnnzzzzzyyyss_7.mp4', '/content/video_data/Shop DataSet/shop lifters/shop_lifter_123.mp4', '/content/video_data/Shop DataSet/shop lifters/shop_lifter_34.mp4', '/content/video_data/Shop DataSet/shop lifters/videyyyyyyyyyss_33.mp4', '/content/video_data/Shop DataSet/shop lifters/videyyyyyynnnnnnzzzzzyyyss_23.mp4', '/content/video_data/Shop DataSet/shop lifters/videyyyyyyyyyss_21.mp4', '/content/video_data/Shop DataSet/shop lifters/shop_lifter_33.mp4', '/content/video_data/Shop DataSet/shop lifters/videyyyyyynnnnnnzzzzzyyyss_6.mp4', '/content/video_data/Shop DataSet/shop lifters/videppppsss_26.mp4', '/content/video_data/Shop DataSet/shop lifters/videmmmmmmsss_94.mp4', '/content/video_data/Shop DataSet/shop lifters/shop_lifter_15.mp4', '/content/video_data/Shop DataSet/shop lifters/shop_lifter_41.mp4', '/content/video_data/Shop DataSet/shop lifters/videyyyyyyyyyss_5.mp4', '/content/video_data/Shop DataSet/shop lifters/videyyyyyynnnnnnzzzzzyyyss_17.mp4', '/content/video_data/Shop DataSet/shop lifters/shop_lifter_104.mp4', '/content/video_data/Shop DataSet/shop lifters/videyyyyyyyyyss_10.mp4', '/content/video_data/Shop DataSet/shop lifters/videmmmmmmsss_86.mp4', '/content/video_data/Shop DataSet/shop lifters/videppppsss_55.mp4', '/content/video_data/Shop DataSet/shop lifters/shop_lifter_2.mp4']\n"
          ]
        }
      ],
      "source": [
        "import glob\n",
        "\n",
        "video_files = glob.glob(\"/content/video_data/**/*.mp4\", recursive=True)\n",
        "print(\"Found video files:\", video_files)"
      ]
    },
    {
      "cell_type": "code",
      "execution_count": null,
      "metadata": {
        "colab": {
          "background_save": true
        },
        "id": "npOQ6UTIc1Xu"
      },
      "outputs": [],
      "source": [
        "import os\n",
        "import torch\n",
        "from torch.utils.data import Dataset\n",
        "from torchvision.transforms import ToTensor, Resize, Compose\n",
        "from PIL import Image\n",
        "import cv2\n",
        "\n",
        "class VideoDataset(Dataset):\n",
        "    def __init__(self, root_dir, frames_per_video=16, transform=None):\n",
        "        self.root_dir = root_dir\n",
        "        self.frames_per_video = frames_per_video\n",
        "        self.transform = transform if transform else Compose([\n",
        "            Resize((64, 64)),\n",
        "            ToTensor()\n",
        "        ])\n",
        "        self.video_paths = []\n",
        "        self.labels = []\n",
        "\n",
        "        # Scan subfolders recursively\n",
        "        for label, class_folder in enumerate(sorted(os.listdir(root_dir))):\n",
        "            class_path = os.path.join(root_dir, class_folder)\n",
        "            if not os.path.isdir(class_path):\n",
        "                continue\n",
        "            for root, _, files in os.walk(class_path):\n",
        "                for file in files:\n",
        "                    if file.lower().endswith(('.mp4', '.avi', '.mov', '.mkv')):\n",
        "                        self.video_paths.append(os.path.join(root, file))\n",
        "                        self.labels.append(label)\n",
        "\n",
        "        print(f\"✅ Found {len(self.video_paths)} video files.\")\n",
        "\n",
        "    def __len__(self):\n",
        "        return len(self.video_paths)\n",
        "\n",
        "    def __getitem__(self, idx):\n",
        "        video_path = self.video_paths[idx]\n",
        "        label = self.labels[idx]\n",
        "\n",
        "        cap = cv2.VideoCapture(video_path)\n",
        "        frames = []\n",
        "        total_frames = int(cap.get(cv2.CAP_PROP_FRAME_COUNT))\n",
        "\n",
        "        if total_frames < self.frames_per_video:\n",
        "            frame_indices = list(range(total_frames))\n",
        "        else:\n",
        "            step = total_frames // self.frames_per_video\n",
        "            frame_indices = [i * step for i in range(self.frames_per_video)]\n",
        "\n",
        "        frame_indices_set = set(frame_indices)\n",
        "        current_index = 0\n",
        "\n",
        "        while len(frames) < len(frame_indices) and cap.isOpened():\n",
        "            ret, frame = cap.read()\n",
        "            if not ret:\n",
        "                break\n",
        "\n",
        "            if current_index in frame_indices_set:\n",
        "                frame = cv2.cvtColor(frame, cv2.COLOR_BGR2RGB)\n",
        "                pil_image = Image.fromarray(frame)\n",
        "                transformed = self.transform(pil_image)\n",
        "                frames.append(transformed)\n",
        "\n",
        "            current_index += 1\n",
        "\n",
        "        cap.release()\n",
        "\n",
        "        # If no valid frames, pad with zeros\n",
        "        if len(frames) == 0:\n",
        "            frames = [torch.zeros(3, 64, 64) for _ in range(self.frames_per_video)]\n",
        "        while len(frames) < self.frames_per_video:\n",
        "            frames.append(frames[-1].clone())\n",
        "\n",
        "        video_tensor = torch.stack(frames)             # (T, C, H, W)\n",
        "        video_tensor = video_tensor.permute(1, 0, 2, 3) # (C, T, H, W)\n",
        "\n",
        "        return video_tensor, label\n"
      ]
    },
    {
      "cell_type": "code",
      "execution_count": null,
      "metadata": {
        "colab": {
          "background_save": true
        },
        "id": "BSl1Rm_xROO7",
        "outputId": "5b7f798f-a78a-4ffb-f8f3-d3308ca16b63"
      },
      "outputs": [
        {
          "name": "stdout",
          "output_type": "stream",
          "text": [
            "✅ Found 855 video files.\n",
            "Total videos loaded: 855\n",
            "Video shape: torch.Size([3, 8, 32, 32])\n",
            "Label: 0\n"
          ]
        }
      ],
      "source": [
        "from torchvision import transforms\n",
        "\n",
        "transform = transforms.Compose([\n",
        "    transforms.Resize((32, 32)),\n",
        "    transforms.ToTensor()\n",
        "])\n",
        "\n",
        "dataset = VideoDataset(\"/content/video_data\", frames_per_video=8, transform=transform)\n",
        "print(\"Total videos loaded:\", len(dataset))\n",
        "\n",
        "video, label = dataset[0]\n",
        "print(\"Video shape:\", video.shape)\n",
        "print(\"Label:\", label)\n"
      ]
    },
    {
      "cell_type": "code",
      "execution_count": null,
      "metadata": {
        "colab": {
          "background_save": true
        },
        "id": "GoB6eAm9Ue2r"
      },
      "outputs": [],
      "source": [
        "from torch.utils.data import random_split\n",
        "\n",
        "total_size = len(dataset)\n",
        "train_size = int(0.7 * total_size)\n",
        "val_size = int(0.15 * total_size)\n",
        "test_size = total_size - train_size - val_size\n",
        "\n",
        "train_dataset, val_dataset, test_dataset = random_split(dataset, [train_size, val_size, test_size])\n"
      ]
    },
    {
      "cell_type": "code",
      "execution_count": null,
      "metadata": {
        "colab": {
          "background_save": true
        },
        "id": "zosEIJB-UiAr"
      },
      "outputs": [],
      "source": [
        "from torch.utils.data import DataLoader\n",
        "\n",
        "train_loader = DataLoader(train_dataset, batch_size=8, shuffle=True)\n",
        "val_loader = DataLoader(val_dataset, batch_size=8, shuffle=False)\n",
        "test_loader = DataLoader(test_dataset, batch_size=8, shuffle=False)\n"
      ]
    },
    {
      "cell_type": "code",
      "execution_count": null,
      "metadata": {
        "colab": {
          "background_save": true
        },
        "id": "ei1FMTus1MFL",
        "outputId": "036456b6-05d8-4c57-93ff-f2153c8f8910"
      },
      "outputs": [
        {
          "name": "stdout",
          "output_type": "stream",
          "text": [
            "Requirement already satisfied: pytorchvideo in /usr/local/lib/python3.11/dist-packages (0.1.5)\n",
            "Requirement already satisfied: fvcore in /usr/local/lib/python3.11/dist-packages (from pytorchvideo) (0.1.5.post20221221)\n",
            "Requirement already satisfied: av in /usr/local/lib/python3.11/dist-packages (from pytorchvideo) (15.0.0)\n",
            "Requirement already satisfied: parameterized in /usr/local/lib/python3.11/dist-packages (from pytorchvideo) (0.9.0)\n",
            "Requirement already satisfied: iopath in /usr/local/lib/python3.11/dist-packages (from pytorchvideo) (0.1.10)\n",
            "Requirement already satisfied: networkx in /usr/local/lib/python3.11/dist-packages (from pytorchvideo) (3.5)\n",
            "Requirement already satisfied: numpy in /usr/local/lib/python3.11/dist-packages (from fvcore->pytorchvideo) (2.0.2)\n",
            "Requirement already satisfied: yacs>=0.1.6 in /usr/local/lib/python3.11/dist-packages (from fvcore->pytorchvideo) (0.1.8)\n",
            "Requirement already satisfied: pyyaml>=5.1 in /usr/local/lib/python3.11/dist-packages (from fvcore->pytorchvideo) (6.0.2)\n",
            "Requirement already satisfied: tqdm in /usr/local/lib/python3.11/dist-packages (from fvcore->pytorchvideo) (4.67.1)\n",
            "Requirement already satisfied: termcolor>=1.1 in /usr/local/lib/python3.11/dist-packages (from fvcore->pytorchvideo) (3.1.0)\n",
            "Requirement already satisfied: Pillow in /usr/local/lib/python3.11/dist-packages (from fvcore->pytorchvideo) (11.3.0)\n",
            "Requirement already satisfied: tabulate in /usr/local/lib/python3.11/dist-packages (from fvcore->pytorchvideo) (0.9.0)\n",
            "Requirement already satisfied: typing-extensions in /usr/local/lib/python3.11/dist-packages (from iopath->pytorchvideo) (4.14.1)\n",
            "Requirement already satisfied: portalocker in /usr/local/lib/python3.11/dist-packages (from iopath->pytorchvideo) (3.2.0)\n"
          ]
        }
      ],
      "source": [
        "!pip install pytorchvideo"
      ]
    },
    {
      "cell_type": "code",
      "execution_count": null,
      "metadata": {
        "colab": {
          "background_save": true
        },
        "id": "8XE8lVEaZQQ6"
      },
      "outputs": [],
      "source": [
        "import torch\n",
        "import torch.nn as nn\n",
        "from torchvision.models.video import mc3_18, MC3_18_Weights\n",
        "\n",
        "def get_pretrained_mc3_video_model(num_classes: int):\n",
        "    \"\"\"\n",
        "    Loads a pretrained mc3_18 video model and adapts the final layer.\n",
        "    Args:\n",
        "        num_classes (int): Number of classes for your task.\n",
        "    Returns:\n",
        "        torch.nn.Module: mc3_18 pretrained model with updated classifier.\n",
        "    \"\"\"\n",
        "    # Load with pretrained weights on Kinetics\n",
        "    model = mc3_18(weights=MC3_18_Weights.KINETICS400_V1)\n",
        "\n",
        "    # Replace the final layer\n",
        "    in_features = model.fc.in_features\n",
        "    model.fc = nn.Linear(in_features, num_classes)\n",
        "\n",
        "    return model\n",
        "\n",
        "# Example usage:\n",
        "# model = get_pretrained_mc3_video_model(num_classes=2)\n",
        "# model = model.to(device)"
      ]
    },
    {
      "cell_type": "code",
      "execution_count": null,
      "metadata": {
        "colab": {
          "background_save": true
        },
        "id": "HYkcVkkMXpeD"
      },
      "outputs": [],
      "source": [
        "model = get_pretrained_mc3_video_model(num_classes=2).to(\"cpu\")"
      ]
    },
    {
      "cell_type": "code",
      "execution_count": null,
      "metadata": {
        "colab": {
          "background_save": true
        },
        "collapsed": true,
        "id": "leAQtBzPW5Iw",
        "outputId": "fbd77ec3-7da5-4396-a109-630a18239fb7"
      },
      "outputs": [
        {
          "name": "stdout",
          "output_type": "stream",
          "text": [
            "Requirement already satisfied: torch in /usr/local/lib/python3.11/dist-packages (2.6.0+cu124)\n",
            "Requirement already satisfied: torchvision in /usr/local/lib/python3.11/dist-packages (0.21.0+cu124)\n",
            "Requirement already satisfied: scikit-learn in /usr/local/lib/python3.11/dist-packages (1.6.1)\n",
            "Requirement already satisfied: filelock in /usr/local/lib/python3.11/dist-packages (from torch) (3.18.0)\n",
            "Requirement already satisfied: typing-extensions>=4.10.0 in /usr/local/lib/python3.11/dist-packages (from torch) (4.14.1)\n",
            "Requirement already satisfied: networkx in /usr/local/lib/python3.11/dist-packages (from torch) (3.5)\n",
            "Requirement already satisfied: jinja2 in /usr/local/lib/python3.11/dist-packages (from torch) (3.1.6)\n",
            "Requirement already satisfied: fsspec in /usr/local/lib/python3.11/dist-packages (from torch) (2025.3.0)\n",
            "Requirement already satisfied: nvidia-cuda-nvrtc-cu12==12.4.127 in /usr/local/lib/python3.11/dist-packages (from torch) (12.4.127)\n",
            "Requirement already satisfied: nvidia-cuda-runtime-cu12==12.4.127 in /usr/local/lib/python3.11/dist-packages (from torch) (12.4.127)\n",
            "Requirement already satisfied: nvidia-cuda-cupti-cu12==12.4.127 in /usr/local/lib/python3.11/dist-packages (from torch) (12.4.127)\n",
            "Requirement already satisfied: nvidia-cudnn-cu12==9.1.0.70 in /usr/local/lib/python3.11/dist-packages (from torch) (9.1.0.70)\n",
            "Requirement already satisfied: nvidia-cublas-cu12==12.4.5.8 in /usr/local/lib/python3.11/dist-packages (from torch) (12.4.5.8)\n",
            "Requirement already satisfied: nvidia-cufft-cu12==11.2.1.3 in /usr/local/lib/python3.11/dist-packages (from torch) (11.2.1.3)\n",
            "Requirement already satisfied: nvidia-curand-cu12==10.3.5.147 in /usr/local/lib/python3.11/dist-packages (from torch) (10.3.5.147)\n",
            "Requirement already satisfied: nvidia-cusolver-cu12==11.6.1.9 in /usr/local/lib/python3.11/dist-packages (from torch) (11.6.1.9)\n",
            "Requirement already satisfied: nvidia-cusparse-cu12==12.3.1.170 in /usr/local/lib/python3.11/dist-packages (from torch) (12.3.1.170)\n",
            "Requirement already satisfied: nvidia-cusparselt-cu12==0.6.2 in /usr/local/lib/python3.11/dist-packages (from torch) (0.6.2)\n",
            "Requirement already satisfied: nvidia-nccl-cu12==2.21.5 in /usr/local/lib/python3.11/dist-packages (from torch) (2.21.5)\n",
            "Requirement already satisfied: nvidia-nvtx-cu12==12.4.127 in /usr/local/lib/python3.11/dist-packages (from torch) (12.4.127)\n",
            "Requirement already satisfied: nvidia-nvjitlink-cu12==12.4.127 in /usr/local/lib/python3.11/dist-packages (from torch) (12.4.127)\n",
            "Requirement already satisfied: triton==3.2.0 in /usr/local/lib/python3.11/dist-packages (from torch) (3.2.0)\n",
            "Requirement already satisfied: sympy==1.13.1 in /usr/local/lib/python3.11/dist-packages (from torch) (1.13.1)\n",
            "Requirement already satisfied: mpmath<1.4,>=1.1.0 in /usr/local/lib/python3.11/dist-packages (from sympy==1.13.1->torch) (1.3.0)\n",
            "Requirement already satisfied: numpy in /usr/local/lib/python3.11/dist-packages (from torchvision) (2.0.2)\n",
            "Requirement already satisfied: pillow!=8.3.*,>=5.3.0 in /usr/local/lib/python3.11/dist-packages (from torchvision) (11.3.0)\n",
            "Requirement already satisfied: scipy>=1.6.0 in /usr/local/lib/python3.11/dist-packages (from scikit-learn) (1.16.1)\n",
            "Requirement already satisfied: joblib>=1.2.0 in /usr/local/lib/python3.11/dist-packages (from scikit-learn) (1.5.1)\n",
            "Requirement already satisfied: threadpoolctl>=3.1.0 in /usr/local/lib/python3.11/dist-packages (from scikit-learn) (3.6.0)\n",
            "Requirement already satisfied: MarkupSafe>=2.0 in /usr/local/lib/python3.11/dist-packages (from jinja2->torch) (3.0.2)\n"
          ]
        }
      ],
      "source": [
        "pip install torch torchvision scikit-learn"
      ]
    },
    {
      "cell_type": "code",
      "execution_count": null,
      "metadata": {
        "colab": {
          "background_save": true
        },
        "id": "7aRfMi-QXBRG"
      },
      "outputs": [],
      "source": [
        "import torch\n",
        "import torch.nn as nn\n",
        "from torch.utils.data import DataLoader\n",
        "from sklearn.metrics import accuracy_score, precision_score, recall_score, f1_score\n",
        "import time"
      ]
    },
    {
      "cell_type": "code",
      "execution_count": null,
      "metadata": {
        "colab": {
          "background_save": true
        },
        "id": "94cBaTgAXKf9"
      },
      "outputs": [],
      "source": [
        "def train_one_epoch(model, dataloader, criterion, optimizer, device):\n",
        "    model.train()\n",
        "    running_loss = 0.0\n",
        "    true_labels = []\n",
        "    pred_labels = []\n",
        "\n",
        "    for inputs, labels in dataloader:\n",
        "        inputs, labels = inputs.to(device), labels.to(device)\n",
        "\n",
        "        optimizer.zero_grad()\n",
        "        outputs = model(inputs)\n",
        "\n",
        "        loss = criterion(outputs, labels)\n",
        "        loss.backward()\n",
        "        optimizer.step()\n",
        "\n",
        "        running_loss += loss.item() * inputs.size(0)\n",
        "        _, preds = torch.max(outputs, 1)\n",
        "        true_labels.extend(labels.cpu().numpy())\n",
        "        pred_labels.extend(preds.cpu().numpy())\n",
        "\n",
        "    epoch_loss = running_loss / len(dataloader.dataset)\n",
        "    return epoch_loss, evaluate_metrics(true_labels, pred_labels)\n"
      ]
    },
    {
      "cell_type": "code",
      "execution_count": null,
      "metadata": {
        "colab": {
          "background_save": true
        },
        "id": "mlHN-y58XP2t"
      },
      "outputs": [],
      "source": [
        "@torch.no_grad()\n",
        "def evaluate(model, dataloader, criterion, device):\n",
        "    model.eval()\n",
        "    running_loss = 0.0\n",
        "    true_labels = []\n",
        "    pred_labels = []\n",
        "\n",
        "    for inputs, labels in dataloader:\n",
        "        inputs, labels = inputs.to(device), labels.to(device)\n",
        "        outputs = model(inputs)\n",
        "\n",
        "        loss = criterion(outputs, labels)\n",
        "        running_loss += loss.item() * inputs.size(0)\n",
        "\n",
        "        _, preds = torch.max(outputs, 1)\n",
        "        true_labels.extend(labels.cpu().numpy())\n",
        "        pred_labels.extend(preds.cpu().numpy())\n",
        "\n",
        "    epoch_loss = running_loss / len(dataloader.dataset)\n",
        "    return epoch_loss, evaluate_metrics(true_labels, pred_labels)\n"
      ]
    },
    {
      "cell_type": "code",
      "execution_count": null,
      "metadata": {
        "colab": {
          "background_save": true
        },
        "id": "oMWIEqNMXS0D"
      },
      "outputs": [],
      "source": [
        "def evaluate_metrics(y_true, y_pred):\n",
        "    return {\n",
        "        'accuracy': accuracy_score(y_true, y_pred),\n",
        "        'precision': precision_score(y_true, y_pred, average='weighted', zero_division=0),\n",
        "        'recall': recall_score(y_true, y_pred, average='weighted', zero_division=0),\n",
        "        'f1_score': f1_score(y_true, y_pred, average='weighted', zero_division=0)\n",
        "    }\n"
      ]
    },
    {
      "cell_type": "code",
      "execution_count": null,
      "metadata": {
        "colab": {
          "background_save": true
        },
        "id": "z3gCcgoPXVY7"
      },
      "outputs": [],
      "source": [
        "def train_model(model, train_loader, val_loader, criterion, optimizer, device, epochs=10):\n",
        "    for epoch in range(epochs):\n",
        "        since = time.time()\n",
        "\n",
        "        train_loss, train_metrics = train_one_epoch(model, train_loader, criterion, optimizer, device)\n",
        "        val_loss, val_metrics = evaluate(model, val_loader, criterion, device)\n",
        "\n",
        "        print(f\"\\nEpoch {epoch+1}/{epochs}\")\n",
        "        print(f\"Train Loss: {train_loss:.4f} | Val Loss: {val_loss:.4f}\")\n",
        "        print(f\"Train Metrics: {train_metrics}\")\n",
        "        print(f\"Val Metrics:   {val_metrics}\")\n",
        "        print(f\"Time: {time.time() - since:.2f}s\")\n"
      ]
    },
    {
      "cell_type": "code",
      "execution_count": null,
      "metadata": {
        "colab": {
          "background_save": true
        },
        "id": "PhLkCz58Xdlq"
      },
      "outputs": [],
      "source": [
        "@torch.no_grad()\n",
        "def test_model(model, test_loader, device):\n",
        "    model.eval()\n",
        "    true_labels = []\n",
        "    pred_labels = []\n",
        "\n",
        "    for inputs, labels in test_loader:\n",
        "        inputs, labels = inputs.to(device), labels.to(device)\n",
        "        outputs = model(inputs)\n",
        "\n",
        "        _, preds = torch.max(outputs, 1)\n",
        "        true_labels.extend(labels.cpu().numpy())\n",
        "        pred_labels.extend(preds.cpu().numpy())\n",
        "\n",
        "    metrics = evaluate_metrics(true_labels, pred_labels)\n",
        "    print(\"\\n✅ Test Metrics:\")\n",
        "    print(metrics)\n"
      ]
    },
    {
      "cell_type": "code",
      "execution_count": null,
      "metadata": {
        "colab": {
          "background_save": true,
          "base_uri": "https://localhost:8080/"
        },
        "id": "DB1fM1haa1NN",
        "outputId": "c67022a1-9d9d-4ee3-e953-87968f1df3e2"
      },
      "outputs": [
        {
          "name": "stdout",
          "output_type": "stream",
          "text": [
            "\n",
            "Epoch 1/10\n",
            "Train Loss: 0.2295 | Val Loss: 0.0177\n",
            "Train Metrics: {'accuracy': 0.8695652173913043, 'precision': 1.0, 'recall': 0.8695652173913043, 'f1_score': 0.9302325581395348}\n",
            "Val Metrics:   {'accuracy': 1.0, 'precision': 1.0, 'recall': 1.0, 'f1_score': 1.0}\n",
            "Time: 504.72s\n",
            "\n",
            "Epoch 2/10\n",
            "Train Loss: 0.0080 | Val Loss: 0.0052\n",
            "Train Metrics: {'accuracy': 1.0, 'precision': 1.0, 'recall': 1.0, 'f1_score': 1.0}\n",
            "Val Metrics:   {'accuracy': 1.0, 'precision': 1.0, 'recall': 1.0, 'f1_score': 1.0}\n",
            "Time: 496.73s\n",
            "\n",
            "Epoch 3/10\n",
            "Train Loss: 0.0037 | Val Loss: 0.0028\n",
            "Train Metrics: {'accuracy': 1.0, 'precision': 1.0, 'recall': 1.0, 'f1_score': 1.0}\n",
            "Val Metrics:   {'accuracy': 1.0, 'precision': 1.0, 'recall': 1.0, 'f1_score': 1.0}\n",
            "Time: 496.88s\n",
            "\n",
            "Epoch 4/10\n",
            "Train Loss: 0.0026 | Val Loss: 0.0021\n",
            "Train Metrics: {'accuracy': 1.0, 'precision': 1.0, 'recall': 1.0, 'f1_score': 1.0}\n",
            "Val Metrics:   {'accuracy': 1.0, 'precision': 1.0, 'recall': 1.0, 'f1_score': 1.0}\n",
            "Time: 513.44s\n",
            "\n",
            "Epoch 5/10\n",
            "Train Loss: 0.0019 | Val Loss: 0.0014\n",
            "Train Metrics: {'accuracy': 1.0, 'precision': 1.0, 'recall': 1.0, 'f1_score': 1.0}\n",
            "Val Metrics:   {'accuracy': 1.0, 'precision': 1.0, 'recall': 1.0, 'f1_score': 1.0}\n",
            "Time: 501.93s\n",
            "\n",
            "Epoch 6/10\n",
            "Train Loss: 0.0016 | Val Loss: 0.0015\n",
            "Train Metrics: {'accuracy': 1.0, 'precision': 1.0, 'recall': 1.0, 'f1_score': 1.0}\n",
            "Val Metrics:   {'accuracy': 1.0, 'precision': 1.0, 'recall': 1.0, 'f1_score': 1.0}\n",
            "Time: 500.79s\n",
            "\n",
            "Epoch 7/10\n",
            "Train Loss: 0.0012 | Val Loss: 0.0010\n",
            "Train Metrics: {'accuracy': 1.0, 'precision': 1.0, 'recall': 1.0, 'f1_score': 1.0}\n",
            "Val Metrics:   {'accuracy': 1.0, 'precision': 1.0, 'recall': 1.0, 'f1_score': 1.0}\n",
            "Time: 505.06s\n",
            "\n",
            "Epoch 8/10\n",
            "Train Loss: 0.0010 | Val Loss: 0.0008\n",
            "Train Metrics: {'accuracy': 1.0, 'precision': 1.0, 'recall': 1.0, 'f1_score': 1.0}\n",
            "Val Metrics:   {'accuracy': 1.0, 'precision': 1.0, 'recall': 1.0, 'f1_score': 1.0}\n",
            "Time: 503.10s\n",
            "\n",
            "Epoch 9/10\n",
            "Train Loss: 0.0009 | Val Loss: 0.0008\n",
            "Train Metrics: {'accuracy': 1.0, 'precision': 1.0, 'recall': 1.0, 'f1_score': 1.0}\n",
            "Val Metrics:   {'accuracy': 1.0, 'precision': 1.0, 'recall': 1.0, 'f1_score': 1.0}\n",
            "Time: 497.79s\n",
            "\n",
            "Epoch 10/10\n",
            "Train Loss: 0.0007 | Val Loss: 0.0005\n",
            "Train Metrics: {'accuracy': 1.0, 'precision': 1.0, 'recall': 1.0, 'f1_score': 1.0}\n",
            "Val Metrics:   {'accuracy': 1.0, 'precision': 1.0, 'recall': 1.0, 'f1_score': 1.0}\n",
            "Time: 500.20s\n",
            "\n",
            "✅ Test Metrics:\n",
            "{'accuracy': 1.0, 'precision': 1.0, 'recall': 1.0, 'f1_score': 1.0}\n"
          ]
        }
      ],
      "source": [
        "import torch\n",
        "import torch.nn as nn\n",
        "import torch.optim as optim\n",
        "\n",
        "# ✅ Model\n",
        "model = get_pretrained_mc3_video_model(num_classes=2)  # or Tiny3DCNN if you modified it\n",
        "\n",
        "# ✅ Device\n",
        "device = torch.device(\"cuda\" if torch.cuda.is_available() else \"cpu\")\n",
        "model = model.to(device)\n",
        "\n",
        "# ✅ Loss function\n",
        "criterion = nn.CrossEntropyLoss()\n",
        "\n",
        "# ✅ Optimizer\n",
        "optimizer = optim.Adam(model.parameters(), lr=1e-4)\n",
        "\n",
        "# ✅ Make sure your DataLoaders are defined:\n",
        "# train_loader, val_loader, test_loader = ...\n",
        "\n",
        "# ✅ Then training and testing:\n",
        "train_model(model, train_loader, val_loader, criterion, optimizer, device, epochs=10)\n",
        "test_model(model, test_loader, device)\n"
      ]
    }
  ],
  "metadata": {
    "colab": {
      "provenance": [],
      "authorship_tag": "ABX9TyMu9MUXCI90O0KKQ3DSx7jF",
      "include_colab_link": true
    },
    "kernelspec": {
      "display_name": "Python 3",
      "name": "python3"
    },
    "language_info": {
      "name": "python"
    }
  },
  "nbformat": 4,
  "nbformat_minor": 0
}